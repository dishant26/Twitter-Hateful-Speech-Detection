{
  "nbformat": 4,
  "nbformat_minor": 0,
  "metadata": {
    "colab": {
      "name": "MLmodel.ipynb",
      "provenance": [],
      "collapsed_sections": []
    },
    "kernelspec": {
      "name": "python3",
      "display_name": "Python 3"
    },
    "language_info": {
      "name": "python"
    },
    "accelerator": "GPU"
  },
  "cells": [
    {
      "cell_type": "code",
      "metadata": {
        "colab": {
          "base_uri": "https://localhost:8080/"
        },
        "id": "UHfmRF3xMP_Z",
        "outputId": "6020156e-be5e-41d6-d9e6-14b966624d7b"
      },
      "source": [
        "from google.colab import drive\n",
        "drive.mount(\"/content/gdrive\")"
      ],
      "execution_count": 2,
      "outputs": [
        {
          "output_type": "stream",
          "text": [
            "Mounted at /content/gdrive\n"
          ],
          "name": "stdout"
        }
      ]
    },
    {
      "cell_type": "code",
      "metadata": {
        "id": "IT8Cx4bUNBfy"
      },
      "source": [
        "import pandas as pd\n",
        "pd.options.mode.chained_assignment = None  # default='warn'\n",
        "import re\n",
        "from sklearn.utils import resample\n",
        "import nltk\n",
        "from nltk.stem.wordnet import WordNetLemmatizer\n",
        "from nltk.corpus import stopwords\n",
        "from nltk.tokenize import sent_tokenize, word_tokenize"
      ],
      "execution_count": 3,
      "outputs": []
    },
    {
      "cell_type": "code",
      "metadata": {
        "id": "h70KTNYhNFgx"
      },
      "source": [
        "import numpy as np\n",
        "import matplotlib.pyplot as plt\n",
        "\n",
        "from keras.models import Sequential, load_model\n",
        "from keras.layers import Dense, LSTM, Embedding, Dropout\n",
        "from keras.preprocessing.text import Tokenizer\n",
        "from keras.preprocessing.sequence import pad_sequences"
      ],
      "execution_count": 4,
      "outputs": []
    },
    {
      "cell_type": "code",
      "metadata": {
        "colab": {
          "base_uri": "https://localhost:8080/"
        },
        "id": "jddknxquNX_k",
        "outputId": "0425c5f1-16a6-48de-fc1c-b2531a57a6eb"
      },
      "source": [
        "nltk.download('punkt')\n",
        "nltk.download('wordnet')\n",
        "nltk.download('stopwords')"
      ],
      "execution_count": 14,
      "outputs": [
        {
          "output_type": "stream",
          "text": [
            "[nltk_data] Downloading package punkt to /root/nltk_data...\n",
            "[nltk_data]   Unzipping tokenizers/punkt.zip.\n",
            "[nltk_data] Downloading package wordnet to /root/nltk_data...\n",
            "[nltk_data]   Unzipping corpora/wordnet.zip.\n",
            "[nltk_data] Downloading package stopwords to /root/nltk_data...\n",
            "[nltk_data]   Unzipping corpora/stopwords.zip.\n"
          ],
          "name": "stdout"
        },
        {
          "output_type": "execute_result",
          "data": {
            "text/plain": [
              "True"
            ]
          },
          "metadata": {
            "tags": []
          },
          "execution_count": 14
        }
      ]
    },
    {
      "cell_type": "code",
      "metadata": {
        "colab": {
          "base_uri": "https://localhost:8080/",
          "height": 216
        },
        "id": "M-kNysmzM8uO",
        "outputId": "9fa7c2a0-c003-452b-ebf7-eb922ed3e09f"
      },
      "source": [
        "data = pd.read_csv(\"/content/gdrive/MyDrive/Twitter/train_E6oV3lV.csv\")\n",
        "validation = pd.read_csv(\"/content/gdrive/MyDrive/Twitter/test_tweets_anuFYb8.csv\")\n",
        "print(data.shape)\n",
        "data.head()"
      ],
      "execution_count": 5,
      "outputs": [
        {
          "output_type": "stream",
          "text": [
            "(31962, 3)\n"
          ],
          "name": "stdout"
        },
        {
          "output_type": "execute_result",
          "data": {
            "text/html": [
              "<div>\n",
              "<style scoped>\n",
              "    .dataframe tbody tr th:only-of-type {\n",
              "        vertical-align: middle;\n",
              "    }\n",
              "\n",
              "    .dataframe tbody tr th {\n",
              "        vertical-align: top;\n",
              "    }\n",
              "\n",
              "    .dataframe thead th {\n",
              "        text-align: right;\n",
              "    }\n",
              "</style>\n",
              "<table border=\"1\" class=\"dataframe\">\n",
              "  <thead>\n",
              "    <tr style=\"text-align: right;\">\n",
              "      <th></th>\n",
              "      <th>id</th>\n",
              "      <th>label</th>\n",
              "      <th>tweet</th>\n",
              "    </tr>\n",
              "  </thead>\n",
              "  <tbody>\n",
              "    <tr>\n",
              "      <th>0</th>\n",
              "      <td>1</td>\n",
              "      <td>0</td>\n",
              "      <td>@user when a father is dysfunctional and is s...</td>\n",
              "    </tr>\n",
              "    <tr>\n",
              "      <th>1</th>\n",
              "      <td>2</td>\n",
              "      <td>0</td>\n",
              "      <td>@user @user thanks for #lyft credit i can't us...</td>\n",
              "    </tr>\n",
              "    <tr>\n",
              "      <th>2</th>\n",
              "      <td>3</td>\n",
              "      <td>0</td>\n",
              "      <td>bihday your majesty</td>\n",
              "    </tr>\n",
              "    <tr>\n",
              "      <th>3</th>\n",
              "      <td>4</td>\n",
              "      <td>0</td>\n",
              "      <td>#model   i love u take with u all the time in ...</td>\n",
              "    </tr>\n",
              "    <tr>\n",
              "      <th>4</th>\n",
              "      <td>5</td>\n",
              "      <td>0</td>\n",
              "      <td>factsguide: society now    #motivation</td>\n",
              "    </tr>\n",
              "  </tbody>\n",
              "</table>\n",
              "</div>"
            ],
            "text/plain": [
              "   id  label                                              tweet\n",
              "0   1      0   @user when a father is dysfunctional and is s...\n",
              "1   2      0  @user @user thanks for #lyft credit i can't us...\n",
              "2   3      0                                bihday your majesty\n",
              "3   4      0  #model   i love u take with u all the time in ...\n",
              "4   5      0             factsguide: society now    #motivation"
            ]
          },
          "metadata": {
            "tags": []
          },
          "execution_count": 5
        }
      ]
    },
    {
      "cell_type": "code",
      "metadata": {
        "colab": {
          "base_uri": "https://localhost:8080/",
          "height": 200
        },
        "id": "-mPtsoGsPoSv",
        "outputId": "aef22e98-6c10-44b4-f304-93fa119aca93"
      },
      "source": [
        "data = data.drop(['id'], axis=1)\n",
        "data.head()"
      ],
      "execution_count": 6,
      "outputs": [
        {
          "output_type": "execute_result",
          "data": {
            "text/html": [
              "<div>\n",
              "<style scoped>\n",
              "    .dataframe tbody tr th:only-of-type {\n",
              "        vertical-align: middle;\n",
              "    }\n",
              "\n",
              "    .dataframe tbody tr th {\n",
              "        vertical-align: top;\n",
              "    }\n",
              "\n",
              "    .dataframe thead th {\n",
              "        text-align: right;\n",
              "    }\n",
              "</style>\n",
              "<table border=\"1\" class=\"dataframe\">\n",
              "  <thead>\n",
              "    <tr style=\"text-align: right;\">\n",
              "      <th></th>\n",
              "      <th>label</th>\n",
              "      <th>tweet</th>\n",
              "    </tr>\n",
              "  </thead>\n",
              "  <tbody>\n",
              "    <tr>\n",
              "      <th>0</th>\n",
              "      <td>0</td>\n",
              "      <td>@user when a father is dysfunctional and is s...</td>\n",
              "    </tr>\n",
              "    <tr>\n",
              "      <th>1</th>\n",
              "      <td>0</td>\n",
              "      <td>@user @user thanks for #lyft credit i can't us...</td>\n",
              "    </tr>\n",
              "    <tr>\n",
              "      <th>2</th>\n",
              "      <td>0</td>\n",
              "      <td>bihday your majesty</td>\n",
              "    </tr>\n",
              "    <tr>\n",
              "      <th>3</th>\n",
              "      <td>0</td>\n",
              "      <td>#model   i love u take with u all the time in ...</td>\n",
              "    </tr>\n",
              "    <tr>\n",
              "      <th>4</th>\n",
              "      <td>0</td>\n",
              "      <td>factsguide: society now    #motivation</td>\n",
              "    </tr>\n",
              "  </tbody>\n",
              "</table>\n",
              "</div>"
            ],
            "text/plain": [
              "   label                                              tweet\n",
              "0      0   @user when a father is dysfunctional and is s...\n",
              "1      0  @user @user thanks for #lyft credit i can't us...\n",
              "2      0                                bihday your majesty\n",
              "3      0  #model   i love u take with u all the time in ...\n",
              "4      0             factsguide: society now    #motivation"
            ]
          },
          "metadata": {
            "tags": []
          },
          "execution_count": 6
        }
      ]
    },
    {
      "cell_type": "code",
      "metadata": {
        "colab": {
          "base_uri": "https://localhost:8080/",
          "height": 200
        },
        "id": "XxRN4bidNrxv",
        "outputId": "c824f771-e40b-4c8f-88d7-9e1c38613ac7"
      },
      "source": [
        "validation = validation.drop(['id'], axis=1)\n",
        "validation.head()"
      ],
      "execution_count": 7,
      "outputs": [
        {
          "output_type": "execute_result",
          "data": {
            "text/html": [
              "<div>\n",
              "<style scoped>\n",
              "    .dataframe tbody tr th:only-of-type {\n",
              "        vertical-align: middle;\n",
              "    }\n",
              "\n",
              "    .dataframe tbody tr th {\n",
              "        vertical-align: top;\n",
              "    }\n",
              "\n",
              "    .dataframe thead th {\n",
              "        text-align: right;\n",
              "    }\n",
              "</style>\n",
              "<table border=\"1\" class=\"dataframe\">\n",
              "  <thead>\n",
              "    <tr style=\"text-align: right;\">\n",
              "      <th></th>\n",
              "      <th>tweet</th>\n",
              "    </tr>\n",
              "  </thead>\n",
              "  <tbody>\n",
              "    <tr>\n",
              "      <th>0</th>\n",
              "      <td>#studiolife #aislife #requires #passion #dedic...</td>\n",
              "    </tr>\n",
              "    <tr>\n",
              "      <th>1</th>\n",
              "      <td>@user #white #supremacists want everyone to s...</td>\n",
              "    </tr>\n",
              "    <tr>\n",
              "      <th>2</th>\n",
              "      <td>safe ways to heal your #acne!!    #altwaystohe...</td>\n",
              "    </tr>\n",
              "    <tr>\n",
              "      <th>3</th>\n",
              "      <td>is the hp and the cursed child book up for res...</td>\n",
              "    </tr>\n",
              "    <tr>\n",
              "      <th>4</th>\n",
              "      <td>3rd #bihday to my amazing, hilarious #nephew...</td>\n",
              "    </tr>\n",
              "  </tbody>\n",
              "</table>\n",
              "</div>"
            ],
            "text/plain": [
              "                                               tweet\n",
              "0  #studiolife #aislife #requires #passion #dedic...\n",
              "1   @user #white #supremacists want everyone to s...\n",
              "2  safe ways to heal your #acne!!    #altwaystohe...\n",
              "3  is the hp and the cursed child book up for res...\n",
              "4    3rd #bihday to my amazing, hilarious #nephew..."
            ]
          },
          "metadata": {
            "tags": []
          },
          "execution_count": 7
        }
      ]
    },
    {
      "cell_type": "code",
      "metadata": {
        "colab": {
          "base_uri": "https://localhost:8080/"
        },
        "id": "kwVQ2PJZNxMb",
        "outputId": "7367915e-96d4-422d-ecd9-b9ae911fe64e"
      },
      "source": [
        "print(data['tweet'].isna().sum())\n",
        "print(data['label'].isna().sum())\n",
        "print(validation['tweet'].isna().sum())"
      ],
      "execution_count": 8,
      "outputs": [
        {
          "output_type": "stream",
          "text": [
            "0\n",
            "0\n",
            "0\n"
          ],
          "name": "stdout"
        }
      ]
    },
    {
      "cell_type": "code",
      "metadata": {
        "id": "J38-8FB1NzHv"
      },
      "source": [
        "def  clean_text(df, text_field):\n",
        "    df[text_field] = df[text_field].str.lower()\n",
        "    df[text_field] = df[text_field].apply(lambda elem: re.sub(r\"(@[A-Za-z0-9]+)|([^0-9A-Za-z \\t])|(\\w+:\\/\\/\\S+)|^rt|http.+?\", \"\", str(elem)))\n",
        "    return df"
      ],
      "execution_count": 58,
      "outputs": []
    },
    {
      "cell_type": "code",
      "metadata": {
        "id": "9HxmurO8N0yF"
      },
      "source": [
        "def removeStopWords(df, text_field):\n",
        "    for i in range(len(df)):\n",
        "        words = word_tokenize(df[text_field][i])\n",
        "        new = []\n",
        "        for word in words:\n",
        "            if word not in stopwords.words('english'):\n",
        "                new.append(word)\n",
        "        df[text_field][i] = ' '.join(new)\n",
        "    return df"
      ],
      "execution_count": 10,
      "outputs": []
    },
    {
      "cell_type": "code",
      "metadata": {
        "id": "Mm5s30mxOPgA"
      },
      "source": [
        "def lemmatization(df, text_field):\n",
        "    lem = WordNetLemmatizer()\n",
        "    for i in range(len(df)):\n",
        "        words = word_tokenize(df[text_field][i])\n",
        "        words = [lem.lemmatize(word,pos='v') for word in words]\n",
        "        df[text_field][i] = ' '.join(words)\n",
        "    return df"
      ],
      "execution_count": 11,
      "outputs": []
    },
    {
      "cell_type": "code",
      "metadata": {
        "id": "guYzl2gmN4ED"
      },
      "source": [
        "def preprocessing(df, text_field):\n",
        "    df_clean = clean_text(df, text_field)\n",
        "    df_clean = removeStopWords(df_clean, text_field)\n",
        "    df_clean = lemmatization(df_clean, text_field)\n",
        "    return df_clean"
      ],
      "execution_count": 12,
      "outputs": []
    },
    {
      "cell_type": "code",
      "metadata": {
        "colab": {
          "base_uri": "https://localhost:8080/",
          "height": 216
        },
        "id": "hoBAeutTN5HJ",
        "outputId": "0fcce617-80c0-4379-a89e-29d22686a719"
      },
      "source": [
        "data_clean = preprocessing(data, \"tweet\")\n",
        "print(data_clean.shape)\n",
        "data_clean.head()"
      ],
      "execution_count": 15,
      "outputs": [
        {
          "output_type": "stream",
          "text": [
            "(31962, 2)\n"
          ],
          "name": "stdout"
        },
        {
          "output_type": "execute_result",
          "data": {
            "text/html": [
              "<div>\n",
              "<style scoped>\n",
              "    .dataframe tbody tr th:only-of-type {\n",
              "        vertical-align: middle;\n",
              "    }\n",
              "\n",
              "    .dataframe tbody tr th {\n",
              "        vertical-align: top;\n",
              "    }\n",
              "\n",
              "    .dataframe thead th {\n",
              "        text-align: right;\n",
              "    }\n",
              "</style>\n",
              "<table border=\"1\" class=\"dataframe\">\n",
              "  <thead>\n",
              "    <tr style=\"text-align: right;\">\n",
              "      <th></th>\n",
              "      <th>label</th>\n",
              "      <th>tweet</th>\n",
              "    </tr>\n",
              "  </thead>\n",
              "  <tbody>\n",
              "    <tr>\n",
              "      <th>0</th>\n",
              "      <td>0</td>\n",
              "      <td>father dysfunctional selfish drag kid dysfunct...</td>\n",
              "    </tr>\n",
              "    <tr>\n",
              "      <th>1</th>\n",
              "      <td>0</td>\n",
              "      <td>thank lyft credit cant use cause dont offer wh...</td>\n",
              "    </tr>\n",
              "    <tr>\n",
              "      <th>2</th>\n",
              "      <td>0</td>\n",
              "      <td>bihday majesty</td>\n",
              "    </tr>\n",
              "    <tr>\n",
              "      <th>3</th>\n",
              "      <td>0</td>\n",
              "      <td>model love u take u time ur</td>\n",
              "    </tr>\n",
              "    <tr>\n",
              "      <th>4</th>\n",
              "      <td>0</td>\n",
              "      <td>factsguide society motivation</td>\n",
              "    </tr>\n",
              "  </tbody>\n",
              "</table>\n",
              "</div>"
            ],
            "text/plain": [
              "   label                                              tweet\n",
              "0      0  father dysfunctional selfish drag kid dysfunct...\n",
              "1      0  thank lyft credit cant use cause dont offer wh...\n",
              "2      0                                     bihday majesty\n",
              "3      0                        model love u take u time ur\n",
              "4      0                      factsguide society motivation"
            ]
          },
          "metadata": {
            "tags": []
          },
          "execution_count": 15
        }
      ]
    },
    {
      "cell_type": "code",
      "metadata": {
        "colab": {
          "base_uri": "https://localhost:8080/",
          "height": 200
        },
        "id": "93tZwlshN6sb",
        "outputId": "64ff27d1-1176-480e-c455-ddf07ceb909b"
      },
      "source": [
        "validation_clean = preprocessing(validation, \"tweet\")\n",
        "validation_clean.head()"
      ],
      "execution_count": 16,
      "outputs": [
        {
          "output_type": "execute_result",
          "data": {
            "text/html": [
              "<div>\n",
              "<style scoped>\n",
              "    .dataframe tbody tr th:only-of-type {\n",
              "        vertical-align: middle;\n",
              "    }\n",
              "\n",
              "    .dataframe tbody tr th {\n",
              "        vertical-align: top;\n",
              "    }\n",
              "\n",
              "    .dataframe thead th {\n",
              "        text-align: right;\n",
              "    }\n",
              "</style>\n",
              "<table border=\"1\" class=\"dataframe\">\n",
              "  <thead>\n",
              "    <tr style=\"text-align: right;\">\n",
              "      <th></th>\n",
              "      <th>tweet</th>\n",
              "    </tr>\n",
              "  </thead>\n",
              "  <tbody>\n",
              "    <tr>\n",
              "      <th>0</th>\n",
              "      <td>studiolife aislife require passion dedication ...</td>\n",
              "    </tr>\n",
              "    <tr>\n",
              "      <th>1</th>\n",
              "      <td>white supremacists want everyone see new bird ...</td>\n",
              "    </tr>\n",
              "    <tr>\n",
              "      <th>2</th>\n",
              "      <td>safe ways heal acne altwaystoheal healthy heal</td>\n",
              "    </tr>\n",
              "    <tr>\n",
              "      <th>3</th>\n",
              "      <td>hp curse child book reservations already yes h...</td>\n",
              "    </tr>\n",
              "    <tr>\n",
              "      <th>4</th>\n",
              "      <td>3rd bihday amaze hilarious nephew eli ahmir un...</td>\n",
              "    </tr>\n",
              "  </tbody>\n",
              "</table>\n",
              "</div>"
            ],
            "text/plain": [
              "                                               tweet\n",
              "0  studiolife aislife require passion dedication ...\n",
              "1  white supremacists want everyone see new bird ...\n",
              "2     safe ways heal acne altwaystoheal healthy heal\n",
              "3  hp curse child book reservations already yes h...\n",
              "4  3rd bihday amaze hilarious nephew eli ahmir un..."
            ]
          },
          "metadata": {
            "tags": []
          },
          "execution_count": 16
        }
      ]
    },
    {
      "cell_type": "code",
      "metadata": {
        "colab": {
          "base_uri": "https://localhost:8080/",
          "height": 278
        },
        "id": "nwv7PLUXN9wm",
        "outputId": "efcc5c78-6003-4964-c983-68998fcb8f57"
      },
      "source": [
        "data_clean[\"label\"].value_counts().sort_index().plot.bar()"
      ],
      "execution_count": 17,
      "outputs": [
        {
          "output_type": "execute_result",
          "data": {
            "text/plain": [
              "<matplotlib.axes._subplots.AxesSubplot at 0x7fb019ecac90>"
            ]
          },
          "metadata": {
            "tags": []
          },
          "execution_count": 17
        },
        {
          "output_type": "display_data",
          "data": {
            "image/png": "[encoded data removed]",
            "text/plain": [
              "<Figure size 432x288 with 1 Axes>"
            ]
          },
          "metadata": {
            "tags": [],
            "needs_background": "light"
          }
        }
      ]
    },
    {
      "cell_type": "code",
      "metadata": {
        "colab": {
          "base_uri": "https://localhost:8080/"
        },
        "id": "dRiWMOF6OBSd",
        "outputId": "803f250e-99e4-4a16-81fe-597c99662a33"
      },
      "source": [
        "data_clean[\"label\"].value_counts()"
      ],
      "execution_count": 18,
      "outputs": [
        {
          "output_type": "execute_result",
          "data": {
            "text/plain": [
              "0    29720\n",
              "1     2242\n",
              "Name: label, dtype: int64"
            ]
          },
          "metadata": {
            "tags": []
          },
          "execution_count": 18
        }
      ]
    },
    {
      "cell_type": "code",
      "metadata": {
        "id": "kZXyNA-jOCiD"
      },
      "source": [
        "import random\n",
        "\n",
        "def test_train_split(df, test_percent):\n",
        "    X = []\n",
        "    Y = []\n",
        "    for i in range(len(df)):\n",
        "        X.append(df[\"tweet\"][i])\n",
        "        Y.append(df[\"label\"][i])\n",
        "    C = list(zip(X,Y))\n",
        "    random.shuffle(C)\n",
        "    X,Y = zip(*C)\n",
        "    split_idx = int(len(X)*test_percent)+1\n",
        "    return list(X[split_idx:]),list(Y[split_idx:]),list(X[:split_idx]),list(Y[:split_idx])"
      ],
      "execution_count": 19,
      "outputs": []
    },
    {
      "cell_type": "code",
      "metadata": {
        "id": "Sa4-FcznOFFp"
      },
      "source": [
        "X_train,Y_train,X_test,Y_test = test_train_split(data_clean,0.20)"
      ],
      "execution_count": 20,
      "outputs": []
    },
    {
      "cell_type": "code",
      "metadata": {
        "id": "cQJ0tLqmOTKa"
      },
      "source": [
        "from sklearn.feature_extraction.text import TfidfVectorizer\n",
        "from sklearn.pipeline import make_pipeline\n",
        "from sklearn.naive_bayes import MultinomialNB\n",
        "from sklearn.svm import SVC\n",
        "from sklearn.ensemble import RandomForestClassifier\n",
        "from sklearn.metrics import classification_report"
      ],
      "execution_count": 21,
      "outputs": []
    },
    {
      "cell_type": "code",
      "metadata": {
        "colab": {
          "base_uri": "https://localhost:8080/"
        },
        "id": "feQS6aMnOVnq",
        "outputId": "caacd309-31a2-4fe6-f2e6-0d844f56adc7"
      },
      "source": [
        "model = make_pipeline(TfidfVectorizer(),MultinomialNB())\n",
        "model.fit(X_train,Y_train)\n",
        "Y_pred = model.predict(X_test)\n",
        "\n",
        "print(classification_report(Y_test, Y_pred))"
      ],
      "execution_count": 22,
      "outputs": [
        {
          "output_type": "stream",
          "text": [
            "              precision    recall  f1-score   support\n",
            "\n",
            "           0       0.94      1.00      0.97      5936\n",
            "           1       0.99      0.17      0.29       457\n",
            "\n",
            "    accuracy                           0.94      6393\n",
            "   macro avg       0.96      0.59      0.63      6393\n",
            "weighted avg       0.94      0.94      0.92      6393\n",
            "\n"
          ],
          "name": "stdout"
        }
      ]
    },
    {
      "cell_type": "code",
      "metadata": {
        "colab": {
          "base_uri": "https://localhost:8080/"
        },
        "id": "Db8pK1zEOW3z",
        "outputId": "25747c1a-d8f2-48bc-9d1f-9b8e5541b1d8"
      },
      "source": [
        "model = make_pipeline(TfidfVectorizer(),SVC())\n",
        "model.fit(X_train,Y_train)\n",
        "Y_pred = model.predict(X_test)\n",
        "\n",
        "print(classification_report(Y_test, Y_pred))"
      ],
      "execution_count": 23,
      "outputs": [
        {
          "output_type": "stream",
          "text": [
            "              precision    recall  f1-score   support\n",
            "\n",
            "           0       0.96      1.00      0.98      5936\n",
            "           1       0.95      0.46      0.62       457\n",
            "\n",
            "    accuracy                           0.96      6393\n",
            "   macro avg       0.96      0.73      0.80      6393\n",
            "weighted avg       0.96      0.96      0.95      6393\n",
            "\n"
          ],
          "name": "stdout"
        }
      ]
    },
    {
      "cell_type": "code",
      "metadata": {
        "colab": {
          "base_uri": "https://localhost:8080/"
        },
        "id": "mOVUz2cxOYQJ",
        "outputId": "765c6ed5-8c57-4509-affb-a96623bdd6b4"
      },
      "source": [
        "model = make_pipeline(TfidfVectorizer(),RandomForestClassifier())\n",
        "model.fit(X_train,Y_train)\n",
        "Y_pred = model.predict(X_test)\n",
        "\n",
        "print(classification_report(Y_test, Y_pred))"
      ],
      "execution_count": 24,
      "outputs": [
        {
          "output_type": "stream",
          "text": [
            "              precision    recall  f1-score   support\n",
            "\n",
            "           0       0.97      1.00      0.98      5936\n",
            "           1       0.91      0.54      0.68       457\n",
            "\n",
            "    accuracy                           0.96      6393\n",
            "   macro avg       0.94      0.77      0.83      6393\n",
            "weighted avg       0.96      0.96      0.96      6393\n",
            "\n"
          ],
          "name": "stdout"
        }
      ]
    },
    {
      "cell_type": "code",
      "metadata": {
        "colab": {
          "base_uri": "https://localhost:8080/"
        },
        "id": "IgmtQyydo0Rb",
        "outputId": "cbef1c6e-3532-46d2-9368-878298a7333f"
      },
      "source": [
        "from sklearn.utils import resample\n",
        "\n",
        "data_majority = data_clean[data_clean.label==0]\n",
        "data_minority = data_clean[data_clean.label==1]\n",
        "\n",
        "data_minority_upsampled = resample(data_minority, \n",
        "                                 replace=True,    \n",
        "                                 n_samples=len(data_majority),   \n",
        "                                 random_state=123)\n",
        "data_upsampled = pd.concat([data_minority_upsampled, data_majority])\n",
        "data_upsampled['label'].value_counts()                        "
      ],
      "execution_count": 25,
      "outputs": [
        {
          "output_type": "execute_result",
          "data": {
            "text/plain": [
              "1    29720\n",
              "0    29720\n",
              "Name: label, dtype: int64"
            ]
          },
          "metadata": {
            "tags": []
          },
          "execution_count": 25
        }
      ]
    },
    {
      "cell_type": "code",
      "metadata": {
        "colab": {
          "base_uri": "https://localhost:8080/"
        },
        "id": "HqOkCQYVOjMf",
        "outputId": "5f38acb7-f4bc-49a0-cac4-39e54ac19887"
      },
      "source": [
        "print(data_upsampled['tweet'].isna().sum())\n",
        "print(data_upsampled['label'].isna().sum())\n",
        "data_upsampled['tweet'] = data_upsampled['tweet'].apply(str)"
      ],
      "execution_count": 26,
      "outputs": [
        {
          "output_type": "stream",
          "text": [
            "0\n",
            "0\n"
          ],
          "name": "stdout"
        }
      ]
    },
    {
      "cell_type": "code",
      "metadata": {
        "colab": {
          "base_uri": "https://localhost:8080/",
          "height": 216
        },
        "id": "MPYOxyPbU9lq",
        "outputId": "c69ca357-88b2-4fde-ed0d-68ffc9044e3b"
      },
      "source": [
        "print(data_upsampled.shape)\n",
        "data_upsampled.head()"
      ],
      "execution_count": 27,
      "outputs": [
        {
          "output_type": "stream",
          "text": [
            "(59440, 2)\n"
          ],
          "name": "stdout"
        },
        {
          "output_type": "execute_result",
          "data": {
            "text/html": [
              "<div>\n",
              "<style scoped>\n",
              "    .dataframe tbody tr th:only-of-type {\n",
              "        vertical-align: middle;\n",
              "    }\n",
              "\n",
              "    .dataframe tbody tr th {\n",
              "        vertical-align: top;\n",
              "    }\n",
              "\n",
              "    .dataframe thead th {\n",
              "        text-align: right;\n",
              "    }\n",
              "</style>\n",
              "<table border=\"1\" class=\"dataframe\">\n",
              "  <thead>\n",
              "    <tr style=\"text-align: right;\">\n",
              "      <th></th>\n",
              "      <th>label</th>\n",
              "      <th>tweet</th>\n",
              "    </tr>\n",
              "  </thead>\n",
              "  <tbody>\n",
              "    <tr>\n",
              "      <th>19492</th>\n",
              "      <td>1</td>\n",
              "      <td>might libtard libtard sjw liberal politics</td>\n",
              "    </tr>\n",
              "    <tr>\n",
              "      <th>16151</th>\n",
              "      <td>1</td>\n",
              "      <td>good place sta learn abt one person amp bigot ...</td>\n",
              "    </tr>\n",
              "    <tr>\n",
              "      <th>25144</th>\n",
              "      <td>1</td>\n",
              "      <td>allahsoil bernanke bail wall street dump 600 b...</td>\n",
              "    </tr>\n",
              "    <tr>\n",
              "      <th>30902</th>\n",
              "      <td>1</td>\n",
              "      <td>wait somebody call dont see anybody</td>\n",
              "    </tr>\n",
              "    <tr>\n",
              "      <th>16522</th>\n",
              "      <td>1</td>\n",
              "      <td>white people expats rest us immigrants socialc...</td>\n",
              "    </tr>\n",
              "  </tbody>\n",
              "</table>\n",
              "</div>"
            ],
            "text/plain": [
              "       label                                              tweet\n",
              "19492      1         might libtard libtard sjw liberal politics\n",
              "16151      1  good place sta learn abt one person amp bigot ...\n",
              "25144      1  allahsoil bernanke bail wall street dump 600 b...\n",
              "30902      1                wait somebody call dont see anybody\n",
              "16522      1  white people expats rest us immigrants socialc..."
            ]
          },
          "metadata": {
            "tags": []
          },
          "execution_count": 27
        }
      ]
    },
    {
      "cell_type": "code",
      "metadata": {
        "colab": {
          "base_uri": "https://localhost:8080/",
          "height": 278
        },
        "id": "HEdt3IQtVL7r",
        "outputId": "7a68c10e-91a1-4acf-fb32-32ae4d55f465"
      },
      "source": [
        "data_upsampled[\"label\"].value_counts().sort_index().plot.bar()"
      ],
      "execution_count": 28,
      "outputs": [
        {
          "output_type": "execute_result",
          "data": {
            "text/plain": [
              "<matplotlib.axes._subplots.AxesSubplot at 0x7fb012711990>"
            ]
          },
          "metadata": {
            "tags": []
          },
          "execution_count": 28
        },
        {
          "output_type": "display_data",
          "data": {
            "image/png": "[encoded data removed]",
            "text/plain": [
              "<Figure size 432x288 with 1 Axes>"
            ]
          },
          "metadata": {
            "tags": [],
            "needs_background": "light"
          }
        }
      ]
    },
    {
      "cell_type": "code",
      "metadata": {
        "id": "lO-g8mAkVW7-"
      },
      "source": [
        "from sklearn.model_selection import train_test_split\n",
        "\n",
        "X_train_Up, X_test_Up, y_train_Up, y_test_Up = train_test_split(data_upsampled['tweet'], data_upsampled['label'],test_size=0.2, random_state = 0)"
      ],
      "execution_count": 32,
      "outputs": []
    },
    {
      "cell_type": "code",
      "metadata": {
        "colab": {
          "base_uri": "https://localhost:8080/"
        },
        "id": "BN6DUm27zZBu",
        "outputId": "3d8683b3-8cff-4921-9561-14f067f51666"
      },
      "source": [
        "model = make_pipeline(TfidfVectorizer(),MultinomialNB())\n",
        "model.fit(X_train_Up,y_train_Up)\n",
        "Y_pred = model.predict(X_test_Up)\n",
        "\n",
        "print(classification_report(y_test_Up, Y_pred))"
      ],
      "execution_count": 34,
      "outputs": [
        {
          "output_type": "stream",
          "text": [
            "              precision    recall  f1-score   support\n",
            "\n",
            "           0       0.99      0.92      0.95      6007\n",
            "           1       0.92      0.99      0.95      5881\n",
            "\n",
            "    accuracy                           0.95     11888\n",
            "   macro avg       0.95      0.95      0.95     11888\n",
            "weighted avg       0.95      0.95      0.95     11888\n",
            "\n"
          ],
          "name": "stdout"
        }
      ]
    },
    {
      "cell_type": "code",
      "metadata": {
        "colab": {
          "base_uri": "https://localhost:8080/"
        },
        "id": "--RwKICAznnP",
        "outputId": "de175941-9e8a-47a5-cbc4-735684cab01f"
      },
      "source": [
        "model = make_pipeline(TfidfVectorizer(),SVC())\n",
        "model.fit(X_train_Up,y_train_Up)\n",
        "Y_pred = model.predict(X_test_Up)\n",
        "\n",
        "print(classification_report(y_test_Up, Y_pred))"
      ],
      "execution_count": 35,
      "outputs": [
        {
          "output_type": "stream",
          "text": [
            "              precision    recall  f1-score   support\n",
            "\n",
            "           0       1.00      0.99      0.99      6007\n",
            "           1       0.99      1.00      0.99      5881\n",
            "\n",
            "    accuracy                           0.99     11888\n",
            "   macro avg       0.99      1.00      0.99     11888\n",
            "weighted avg       0.99      0.99      0.99     11888\n",
            "\n"
          ],
          "name": "stdout"
        }
      ]
    },
    {
      "cell_type": "code",
      "metadata": {
        "colab": {
          "base_uri": "https://localhost:8080/"
        },
        "id": "XlusEWzCzwW1",
        "outputId": "7687f741-87c0-4050-c787-8e6c2d5684c5"
      },
      "source": [
        "model = make_pipeline(TfidfVectorizer(),RandomForestClassifier())\n",
        "model.fit(X_train_Up,y_train_Up)\n",
        "Y_pred = model.predict(X_test_Up)\n",
        "\n",
        "print(classification_report(y_test_Up, Y_pred))"
      ],
      "execution_count": 36,
      "outputs": [
        {
          "output_type": "stream",
          "text": [
            "              precision    recall  f1-score   support\n",
            "\n",
            "           0       1.00      0.97      0.99      6007\n",
            "           1       0.97      1.00      0.99      5881\n",
            "\n",
            "    accuracy                           0.99     11888\n",
            "   macro avg       0.99      0.99      0.99     11888\n",
            "weighted avg       0.99      0.99      0.99     11888\n",
            "\n"
          ],
          "name": "stdout"
        }
      ]
    },
    {
      "cell_type": "code",
      "metadata": {
        "colab": {
          "base_uri": "https://localhost:8080/"
        },
        "id": "9ywGz-3p5Owm",
        "outputId": "29c5ae37-7589-4d4c-ae97-964444b043e0"
      },
      "source": [
        "!pip install searchtweets"
      ],
      "execution_count": 37,
      "outputs": [
        {
          "output_type": "stream",
          "text": [
            "Collecting searchtweets\n",
            "  Downloading https://files.pythonhosted.org/packages/ac/f7/5eb1fca752b24338629961fd4893d231f458f653f692f12958534408dc3b/searchtweets-1.7.6-py3-none-any.whl\n",
            "Requirement already satisfied: requests in /usr/local/lib/python3.7/dist-packages (from searchtweets) (2.23.0)\n",
            "Collecting tweet-parser\n",
            "  Downloading https://files.pythonhosted.org/packages/4b/ea/cb82efb43dbcb115ea447313fbd287ff66349b34bdfdb4a78e25d3a42cb0/tweet_parser-1.13.2-py3-none-any.whl\n",
            "Requirement already satisfied: pyyaml in /usr/local/lib/python3.7/dist-packages (from searchtweets) (3.13)\n",
            "Requirement already satisfied: urllib3!=1.25.0,!=1.25.1,<1.26,>=1.21.1 in /usr/local/lib/python3.7/dist-packages (from requests->searchtweets) (1.24.3)\n",
            "Requirement already satisfied: idna<3,>=2.5 in /usr/local/lib/python3.7/dist-packages (from requests->searchtweets) (2.10)\n",
            "Requirement already satisfied: certifi>=2017.4.17 in /usr/local/lib/python3.7/dist-packages (from requests->searchtweets) (2020.12.5)\n",
            "Requirement already satisfied: chardet<4,>=3.0.2 in /usr/local/lib/python3.7/dist-packages (from requests->searchtweets) (3.0.4)\n",
            "Installing collected packages: tweet-parser, searchtweets\n",
            "Successfully installed searchtweets-1.7.6 tweet-parser-1.13.2\n"
          ],
          "name": "stdout"
        }
      ]
    },
    {
      "cell_type": "code",
      "metadata": {
        "id": "lL3UC1kH5RqR"
      },
      "source": [
        "import yaml\n",
        "\n",
        "config = dict(\n",
        "    search_tweets_api=dict(\n",
        "        account_type='premium',\n",
        "        endpoint='https://api.twitter.com/1.1/tweets/search/fullarchive/dev.json',\n",
        "        consumer_key='#########################',\n",
        "        consumer_secret='##################################################',\n",
        "        access_token='##################################################',\n",
        "        access_token_secret='#############################################'\n",
        "    )\n",
        ")\n",
        "\n",
        "with open('twitter_keys_full_archive.yaml', 'w') as config_file:\n",
        "    yaml.dump(config, config_file, default_flow_style=False)"
      ],
      "execution_count": 38,
      "outputs": []
    },
    {
      "cell_type": "code",
      "metadata": {
        "colab": {
          "base_uri": "https://localhost:8080/"
        },
        "id": "U6vjqRQv5WNE",
        "outputId": "9c1fdfbd-a657-4ba6-8fd7-d78f90804773"
      },
      "source": [
        "from searchtweets import load_credentials\n",
        "premium_search_args = load_credentials(\"twitter_keys_full_archive.yaml\",\n",
        "                                       yaml_key=\"search_tweets_api\",\n",
        "                                       env_overwrite=False)\n",
        "print(premium_search_args)"
      ],
      "execution_count": 39,
      "outputs": [
        {
          "output_type": "stream",
          "text": [
            "Grabbing bearer token from OAUTH\n"
          ],
          "name": "stderr"
        },
        {
          "output_type": "stream",
          "text": [
            "{'bearer_token': 'AAAAAAAAAAAAAAAAAAAAAHi0NgEAAAAAaQ8XEXwiQp0DwLLdd5MGEGZWpvE%3DaxDVIiCIZ26QEURSUU3CXIKbQMH5W5UktbI5OrMFuo4AsWtUXA', 'endpoint': 'https://api.twitter.com/1.1/tweets/search/fullarchive/dev.json', 'extra_headers_dict': None}\n"
          ],
          "name": "stdout"
        }
      ]
    },
    {
      "cell_type": "code",
      "metadata": {
        "colab": {
          "base_uri": "https://localhost:8080/"
        },
        "id": "rHsu-y6v5ZLa",
        "outputId": "319665fe-c0bc-49a0-f41b-b2fb8eae1659"
      },
      "source": [
        "hashtag = input()"
      ],
      "execution_count": 40,
      "outputs": [
        {
          "output_type": "stream",
          "text": [
            "trump\n"
          ],
          "name": "stdout"
        }
      ]
    },
    {
      "cell_type": "code",
      "metadata": {
        "colab": {
          "base_uri": "https://localhost:8080/"
        },
        "id": "cXPe3glL5Zvk",
        "outputId": "3dae0381-910c-4120-c7f5-4928b7e8f55d"
      },
      "source": [
        "hashtag1 = hashtag + \" \" + \"lang:en\"\n",
        "from searchtweets import gen_rule_payload\n",
        "\n",
        "rule = gen_rule_payload(hashtag1, results_per_call=100, from_date=\"2010-09-01\", to_date=\"2020-10-30\")\n",
        "print(rule)"
      ],
      "execution_count": 41,
      "outputs": [
        {
          "output_type": "stream",
          "text": [
            "{\"query\": \"trump lang:en\", \"maxResults\": 100, \"toDate\": \"202010300000\", \"fromDate\": \"201009010000\"}\n"
          ],
          "name": "stdout"
        }
      ]
    },
    {
      "cell_type": "code",
      "metadata": {
        "colab": {
          "base_uri": "https://localhost:8080/"
        },
        "id": "ZHjkHJ3v5dEl",
        "outputId": "8ca2638d-0c86-4632-a3d8-885dfd461916"
      },
      "source": [
        "from searchtweets import ResultStream\n",
        "\n",
        "rs = ResultStream(rule_payload=rule,\n",
        "                  max_results=100,\n",
        "                  **premium_search_args)\n",
        "\n",
        "print(rs)"
      ],
      "execution_count": 42,
      "outputs": [
        {
          "output_type": "stream",
          "text": [
            "ResultStream: \n",
            "\t{\n",
            "    \"username\": null,\n",
            "    \"endpoint\": \"https://api.twitter.com/1.1/tweets/search/fullarchive/dev.json\",\n",
            "    \"rule_payload\": {\n",
            "        \"query\": \"trump lang:en\",\n",
            "        \"maxResults\": 100,\n",
            "        \"toDate\": \"202010300000\",\n",
            "        \"fromDate\": \"201009010000\"\n",
            "    },\n",
            "    \"tweetify\": true,\n",
            "    \"max_results\": 100\n",
            "}\n"
          ],
          "name": "stdout"
        }
      ]
    },
    {
      "cell_type": "code",
      "metadata": {
        "id": "i6bOUura5fLb"
      },
      "source": [
        "tweets = list(rs.stream())"
      ],
      "execution_count": 43,
      "outputs": []
    },
    {
      "cell_type": "code",
      "metadata": {
        "colab": {
          "base_uri": "https://localhost:8080/"
        },
        "id": "TftLyOK25hlh",
        "outputId": "3f68f6d3-685c-49d3-a71b-6ce1ab694bb4"
      },
      "source": [
        "# [print(f\"{tweet.all_text}\\n\\n\") for tweet in tweets[0:100]];\n",
        "i=1\n",
        "for tweet in tweets[0:100]:\n",
        "    print(f\"{i}: {tweet.all_text}\\n\\n\")\n",
        "    i+=1\n"
      ],
      "execution_count": 44,
      "outputs": [
        {
          "output_type": "stream",
          "text": [
            "1: If Trump gets re-elected, he needs to shut all these media frauds out of the White House press room. They are Democratic shills and coverup artists masquerading as journalists. Clean out the stables and let a new group of genuine truth seekers take their place #FakeNewsMedia\n",
            "\n",
            "\n",
            "2: Lil Wayne is voting for Trump AND he is a Green Bay Packer fan??  He may be the smartest person in the world!  #GoPackGo #MAGA https://t.co/5vuSFu8Wvh\n",
            "if you don't like this, you're a racist. full stop. https://t.co/918R1AjW6z\n",
            "\n",
            "\n",
            "3: @gollybass Drove through my neighbourhood yesterday and there was an old guy in a golf cart with two big-ass Trump flags. Honestly made me nauseous...\n",
            "\n",
            "\n",
            "4: Trump and the Republicans are working very hard seemingly to make sure no one votes for Hillary Clinton or Hunter Biden in this election. In a spirit of bipartisanship I will not vote for either of them.\n",
            "\n",
            "\n",
            "5: President @realDonaldTrump: The State of Israel and the Republic of Sudan have agreed to make peace. Full remarks: https://t.co/otT5O3dEnu https://t.co/PJIHHoIS3C\n",
            "\n",
            "\n",
            "6: @BernieSanders @KamalaHarris @MaryKayHenry @aijenpoo Trump claims hundreds of thousands of ballots are being mailed out to dead people in an attempt at voter fraud, but I'm pretty sure those were just registered American voters who recently passed away from Covid-19 since he's been in office.\n",
            "\n",
            "\n",
            "7: Voters said they chose Trump in 2016 because he was a successful business and they think he would be good for the economy. The truth is that they hate Hillary and they did not do their homework on Trump. If they did they would have known he was a fail businessman and a taxcheat.\n",
            "\n",
            "\n",
            "8: This is a prime example of the ignorance and delusion embedded within Trump supporters. Once they realized she was talking about Trump, their demeanors changed and suddenly it was “different.” https://t.co/Oi1FQXwk0S\n",
            "\n",
            "\n",
            "9: How it ended:\n",
            "\n",
            "“A 64-page document that was later disseminated by close associates of President Donald Trump appears to be the work of a fake \"intelligence firm.\"” https://t.co/ojjW9J1SgG\n",
            "\n",
            "\n",
            "10: TRUMP &amp; BIDEN ARE TIED IN TEXAS \n",
            "GUYS TEXAS CAN TURN BLUE IF WE JUST VOTE!!!! PLEASE VOTE!\n",
            "\n",
            "\n",
            "11: The Hunter Biden “dossier” disseminated by Trump’s close associates appears to be from a fake “intelligence firm” called Typhoon Investigations. The author of the report, “Martin Aspen” does not exist. By ⁦@BrandyZadrozny⁩ &amp; ⁦@oneunderscore__⁩  https://t.co/KD2BiHjVBY\n",
            "\n",
            "\n",
            "12: @JasonMillerinDC Trump is always angry. He was born between third and home plate and yet whines that he had to take a limo to home. \n",
            "Trumpublikkkans are part of the grievance politics. \n",
            "\n",
            "Vote for @JoeBiden who will work for ALL of us, even trump and his idiot supporters.\n",
            "\n",
            "\n",
            "13: @GeoffRBennett Seriously, why is trump trying so hard to kill his base?\n",
            "\n",
            "\n",
            "14: Donald Trump has gotten:\n",
            "\n",
            "-$885 million in subsidies for his real estate empire\n",
            "-$287 million of his debt canceled\n",
            "-A $72.9 million IRS tax refund\n",
            "-Free health care at a 100% government run hospital\n",
            "\n",
            "Yes. Trump l-o-v-e-s socialism for himself, rugged individualism for the rest.\n",
            "\n",
            "\n",
            "15: lil wayne is endorsing trump but can’t even vote...\n",
            "\n",
            "\n",
            "16: Our new @trafalgar_group #2020Election #BattlegroundState #MIpoll conducted Oct 25-28 shows a steady Trump lead: \n",
            "49.1% @realDonaldTrump,\n",
            "46.6% @JoeBiden,\n",
            "2.1% @Jorgensen4POTUS,\n",
            "1.2% Other,\n",
            "1.1% Und. See Report: https://t.co/6PrhQlDSRp https://t.co/o3Eoi95uBq\n",
            "\n",
            "\n",
            "17: .@martinwolf_ : If Trump re-elected, US credibility as a model democracy would be shattered, its believability as leader of alliances would be over, its willingness to participate in endeavours that address shared global challenges would be non-existent. https://t.co/QLXwsg7rKr\n",
            "\n",
            "\n",
            "18: Florida judge resigns from vote-counting board following report on Trump donations https://t.co/hZq6dGl8r8\n",
            "\n",
            "\n",
            "19: All the rappers that have endorsed Trump should start a pac and call it 2 PAC https://t.co/2X5nwvqUwh\n",
            "\n",
            "\n",
            "20: Self-Dealing, Denialism, Dishonesty, Deflection: The Final Days of the Trump Campaign Have It All https://t.co/L3v8i5hVqN\n",
            "\n",
            "\n",
            "21: Trump and his sycophants don't want to just steal this election.  They want to steal this country\n",
            "\n",
            "\n",
            "22: BUSTED: Commerce Secretary was on board of Chinese joint venture — while running Trump’s trade war https://t.co/wpcy2P39XJ\n",
            "\n",
            "\n",
            "23: @realDonaldTrump Dump Trump\n",
            "\n",
            "\n",
            "24: @HitmanMattingly @hope4rfuture @chuckwoolery What? Jim Jones follower says what??? Trump is purposely spreading covid all over the country. He has no plan whatsoever but let it spread, and I need an IQ test? I have already lost people and I blame it squarely on Trump.\n",
            "\n",
            "\n",
            "25: I caught the man doing my nails watching the Tampa Trump rally on his phone. He’s the salon owner, he’s Vietnamese and he LOVES @realDonaldTrump \n",
            "\n",
            "We’re gonna win. 🇺🇸 https://t.co/40uvDZeMuq\n",
            "\n",
            "\n",
            "26: @JoeBiden I believe trump is knowingly holding his rallies- allowing ppl to be infected- trying to build a herd immunity. Look at the statistics. A few days after his rallies- cases in that city spike. Every. Single. One. This is terrorism and it is treason. Please investigate.\n",
            "\n",
            "\n",
            "27: @Bitcointomoon1 @Christi95126146 @nvk_daniel @realDonaldTrump What has trump done since he's been in office.\n",
            "\n",
            "\n",
            "28: .@FBI .@NewYorkFBI .@FBINewark .@FBIWFO .@FBILosAngeles .@SecretService An Explainer for your Agents and Supervisors who are right next to the person saying all of these things. Still!   Olbermann vs. Trump #16: Trump Is Sundowning https://t.co/SOlMfHXRqm via @YouTube\n",
            "\n",
            "\n",
            "29: @WSJ @WSJopinion @DanHenninger Ahh here we have flaccid trump apologist Canny Danny H, rolling out a tried and true dusty Right Wing trope. -- uuhhh the r adDicAl LeFt\n",
            "\n",
            "How utterly unoriginal and uninspiring.\n",
            "\n",
            "Someone please give Danny a hug.\n",
            "\n",
            "\n",
            "30: Lil Wayne Praises President ⁦@realDonaldTrump⁩’s Platinum Plan for Black Americans: 'He Listened and Assured He Will and Can Get It Done' https://t.co/dTUXqBMKn0\n",
            "\n",
            "\n",
            "31: With the Jack Nicklaus/Jay Cutler endorsements -just want to point out other Trump supporters are praising them. Meaning they actually do love when athletes have political opinions! They just dont like when it’s different from theirs. Why don’t those two have to shut up and play?\n",
            "\n",
            "\n",
            "32: @Milbank @BretBaier He is garbage like Trump.  Lock him up\n",
            "\n",
            "\n",
            "33: NBC Exclusive: The Hunter Biden 'dossier' that went viral on right-wing internet sites and was later disseminated by Trump's close associates appears to be from a fake 'intelligence firm'.\n",
            "\n",
            "The author of the report, 'Martin Aspen', does not exist. \n",
            "https://t.co/XgIbSns9Mm\n",
            "\n",
            "\n",
            "34: It's already happening: I don't even care what Trump says these days. He is irrelevant\n",
            "\n",
            "\n",
            "35: “This is an election between Donald Trump and democracy.” @BernieSanders. On November 3rd, vote to #DefendDemocracy. https://t.co/KQGv7ZYxAP\n",
            "\n",
            "\n",
            "36: “What’s your favorite Lil Wayne song?”\n",
            "\n",
            "Trump supporters: https://t.co/fGH4fcNK7k\n",
            "\n",
            "\n",
            "37: As good an ad about Trump as I've seen. I hope you'll retweet it. https://t.co/G5e5L0HyRu\n",
            "\n",
            "\n",
            "38: Show this clip to all of the people you know who support Donald Trump and claim he isn’t a racist.\n",
            "\n",
            "Decades of documentation...https://t.co/ZjQxvl3wR1\n",
            "\n",
            "\n",
            "39: BREAKING: The head of Duval County's vote-counting board has donated to Trump 12 times and has six Trump signs up at his home, despite rules barring him from doing so.https://t.co/c6XtwWHFmf\n",
            "\n",
            "\n",
            "40: We can't stress this enough, a second Trump term will put his adminsitration’s authoritarian, racist, and xenophobicagenda into overdrive.  We have a lot to lose! @arneduncan  #Vote #VoteEarly @JoeBiden @NSLforBiden\n",
            "\n",
            "https://t.co/5FeY6pOuVr\n",
            "\n",
            "\n",
            "41: The majority of people that call President Trump racist are not black but unhinged white liberals.\n",
            "\n",
            "Think about that...\n",
            "\n",
            "They have no idea what’s coming.\n",
            "\n",
            "\n",
            "42: Shut up, you illiterate nitwit with your lowlife mouth. Trump paid around $24 million in the ATM tax. That’s in the same NYT article.  But maybe you can’t read either. Bozo.\n",
            "https://t.co/jWRW2wlyXj\n",
            "\n",
            "\n",
            "43: Me acting shocked that Lil Wayne is supporting Trump : https://t.co/4zDVlTQ3Ly\n",
            "\n",
            "\n",
            "44: If Trump's claims fraud from voting by mail resulted in  stolen elections was true, he would have an example. But he doesn't. Just like when he formed his \"Election Integrity\" Commission in 2017 to search for fraud, it had to shut down months later. Because it couldn't find any.\n",
            "\n",
            "\n",
            "45: @MSNBC @trymainelee Not the Black men that I know.   They know a con job when they see one.  And they know EXACTLY what Trump means when he repeatedly says \"He saving the suburbs.\"!!!\n",
            "\n",
            "\n",
            "46: NBC Exclusive: The Hunter Biden 'dossier' that went viral on right-wing internet sites and was later disseminated by Trump's close associates appears to be from a fake 'intelligence firm'.\n",
            "\n",
            "The author of the report, 'Martin Aspen', does not exist. \n",
            "https://t.co/XgIbSns9Mm\n",
            "\n",
            "\n",
            "47: @TX_WalkerRanger I need followers Twitter made me start over TRUMP 2020\n",
            "\n",
            "\n",
            "48: Trump is making being a Republican cool.\n",
            "\n",
            "\n",
            "49: We had another record day for infections https://t.co/9lqa2KCBHC Too bad Donald Trump and his White House crew don't have access to these numbers\n",
            "\n",
            "\n",
            "50: Opinion: Trump accidentally admits he’s abandoned working women https://t.co/jEu24pLUVl\n",
            "\n",
            "\n",
            "51: Is today's economic news a sign that we need 4 more years of Trump?\n",
            "https://t.co/sctaLuLTyR\n",
            "\n",
            "\n",
            "52: @TheRynheart They should be worried. But Trump and his criminal cronies should be more worried. #LockHimUp\n",
            "\n",
            "\n",
            "53: Opinion | Alan Alda: I cannot remain silent as Trump rejects science and endangers lives https://t.co/QQsRtBseDX\n",
            "\n",
            "\n",
            "54: If they rich they will vote for trump. Ya need to understand that logic https://t.co/IpN4i0CHCn\n",
            "\n",
            "\n",
            "55: @joerogan @ggreenwald \"Private-sector repression of speech &amp; thought can be as dangerous &amp; consequential (as state censorship).\n",
            "\n",
            "Imagine, if Twitter, FB &amp; Google said:\n",
            "\n",
            "'Henceforth we will ban all content that is critical of Trump...but will actively promote criticisms of Biden'\"\n",
            "\n",
            "@ggreenwald https://t.co/y3Org1X8tg\n",
            "\n",
            "\n",
            "56: They impeached Trump for the crimes of the Biden family. \n",
            "\n",
            "The FBI now confirms this\n",
            "\n",
            "Pass it on\n",
            "\n",
            "\n",
            "57: President @realDonaldTrump is a man of action on the world stage. He has:\n",
            "✔ Destroyed ISIS and top terrorist leaders\n",
            "✔ Normalized Israel’s relations with UAE, Bahrain, and Sudan\n",
            "✔ Moved the American Embassy in Israel to Jerusalem, just as he promised. https://t.co/6pLyRl3ja2\n",
            "\n",
            "\n",
            "58: @RedaMor_ I hear you. It pisses me off that people who don't vote for Trump are looked at as traitors when it is Trump is a traitor. \n",
            "It also seems trumpers have American flags flying everywhere so it's almost as if the MAGAts have taken over the flag.  I can't wait until 45 is in prison.\n",
            "\n",
            "\n",
            "59: posts like this make me enthusiastic for Trump\n",
            "\n",
            "they started rioting in 3 cities recently\n",
            "\n",
            "and Trump's people are taking immediate action\n",
            "\n",
            "and the press is making it about politics https://t.co/3NMhcXzLAS\n",
            "\n",
            "\n",
            "60: Trump, who has a secret Chinese bank account, also has a Cabinet Secretary has been in the pocket of a Chinese government-owned enterprise through most of his tenure. \n",
            "\n",
            "I’m sure @BretBaier and the intrepid team at @FoxNews will cover this as closely as the Hunter stuff, right?? https://t.co/RM0z9pySVw\n",
            "\n",
            "\n",
            "61: A 64-page document asserting an elaborate conspiracy theory involving Joe Biden's son and business in China, that was later disseminated by close associates of President Trump, appears to be the work of a fake \"intelligence firm.\" (1/8) #NBCNewsThreads https://t.co/9HcZ6dyhCR\n",
            "\n",
            "\n",
            "62: @Barnes_Law @Barnes_Law both internals have trump up 3 in mi, tied in wi.\n",
            "\n",
            "\n",
            "63: With Trump and Pompeo, cruelty is the POINT!\n",
            "\n",
            "Two #gay couples celebrate today; Pompeo finally gave up his quest to deny their children citizenship.\n",
            "\n",
            "But other #LGBTQ families live in fear in this mindblowingly cruel story you've probably never heard of.\n",
            "https://t.co/86Mz663Ll7\n",
            "\n",
            "\n",
            "64: Trump sending DM to pornstars on Twitter.. Lol.. Wonder if @FLOTUS cares? @ProjectLincoln @MeidasTouch 🏴‍☠️🏴‍☠️🏴‍☠️ https://t.co/pdsMFdWDug\n",
            "\n",
            "\n",
            "65: Trump invites 3 young fans to dance with him on stage in Arizona! 🤣🤣 https://t.co/1pJ0ri1bKo\n",
            "\n",
            "\n",
            "66: Pres. @realDonaldTrump’s #PlatinumPlan is bringing a lot of people to the table to get even more things done for the Black Community in the second term! \n",
            "\n",
            "This is building off of the President’s already impressive record of results.  \n",
            "\n",
            "Read it here:\n",
            "\n",
            "https://t.co/6Yh5GNHAva https://t.co/GnRahVQFns\n",
            "\n",
            "\n",
            "67: BREAKING REPORT: 31% of Black Voters Intend to Cast Their Vote for President Trump.. -Rasmussen Reports\n",
            "\n",
            "\n",
            "68: NBC Exclusive: The Hunter Biden 'dossier' that went viral on right-wing internet sites and was later disseminated by Trump's close associates appears to be from a fake 'intelligence firm'.\n",
            "\n",
            "The author of the report, 'Martin Aspen', does not exist. \n",
            "https://t.co/XgIbSns9Mm\n",
            "\n",
            "\n",
            "69: Democratic Rep. Raja Krishnamoorthi says documents reveal that the Trump administration attempted to use $250 million of taxpayer money, meant for Covid-19 education purposes, as a \"slush fund\" to help President Trump's reelection campaign by trying to rebrand the pandemic. https://t.co/KEBsLRUBc9\n",
            "\n",
            "\n",
            "70: We have to act. America is at a fork on the road and the path that Donald Trump has been taking us on is deadly. \n",
            "\n",
            "We have to #CrushTheVirus to open our economy and open our schools. @JoeBiden believes in science and science is the answer. #vote https://t.co/NoBJXDCgoG\n",
            "\n",
            "\n",
            "71: This is a prime example of the ignorance and delusion embedded within Trump supporters. Once they realized she was talking about Trump, their demeanors changed and suddenly it was “different.” https://t.co/Oi1FQXwk0S\n",
            "\n",
            "\n",
            "72: Donate and RT. It's crunch time, folks. We NEED Florida and PA to cut off Trump's route to 270. https://t.co/nWpzu1MIwX\n",
            "\n",
            "\n",
            "73: Trump vs Biden is gonna be like the Sacramento Kings vs New York Knicks in the NBA Finals and it's gonna be spectacular\n",
            "\n",
            "\n",
            "74: @edmontonjournal Did Mr. Mayes get his instruction from Trump or the RNC?\n",
            "Seriously though, Trump's falsehoods are so much worse than anyone else that both side-ism doesn't apply. If one side says it's raining &amp; the other says it isn't, media needs to look outside.\n",
            "\n",
            "\n",
            "75: @ConceptualJames Legitimate question here..... how does keeping Trump in office prevent things like this from happening?\n",
            "\n",
            "\n",
            "76: \"Stephen Miller has grotesque policies. He has no morals,\" says @RepJayapal, reflecting on her investigations into the Trump administration's family separations and immigrant treatment. \"What I have seen, there is no way to describe this except [as] grotesque cruelty.\" https://t.co/7Mb8LGZRTk\n",
            "\n",
            "\n",
            "77: @amourtaetae DROP OFF your BALLOT at official drop-off locations https://t.co/nMtWZBco0b\n",
            "Over 4,300 locations across 33 states (and counting) listed on this app!\n",
            "\n",
            "Too late to mail it! We still have MILLIONS of unreturned ballots! We can't risk 4 more years of Trump!\n",
            "\n",
            "Pass it on!  #myballotbox\n",
            "\n",
            "\n",
            "78: @iBeSuckaFree See this was corny but not as bad as a Trump endorsement lol\n",
            "\n",
            "\n",
            "79: Our new @trafalgar_group #2020Election #BattlegroundState #MIpoll conducted Oct 25-28 shows a steady Trump lead: \n",
            "49.1% @realDonaldTrump,\n",
            "46.6% @JoeBiden,\n",
            "2.1% @Jorgensen4POTUS,\n",
            "1.2% Other,\n",
            "1.1% Und. See Report: https://t.co/6PrhQlDSRp https://t.co/o3Eoi95uBq\n",
            "\n",
            "\n",
            "80: Lifelong Democrat, Flint City Michigan Council members will be voting for President Trump in this election.\n",
            "https://t.co/X53GD3q7jo\n",
            "\n",
            "\n",
            "81: BREAKING: Speaker Pelosi and the Coronavirus Oversight Panel will release report on the investigation in to Trump Admin’s failed pandemic response tomorrow am.\n",
            "\n",
            "\n",
            "82: Trump is broke, the only thing he can afford is the MAGA rallies which he doesn't pay for, he stiffs ALL the venues. The day after his disaster debate and Melania's 'f**k Christmas' tapes he went to Walter Reed.  He made his docs signs NDAs.  This is all FAKE. Change my mind\n",
            "\n",
            "\n",
            "83: @tedcruz Just wanted to remind you , Donald Trump thinks your wife is ugly. How’s that loyalty going?\n",
            "\n",
            "\n",
            "84: Fox News cut away from Donald Trump's campaign rally in Florida and aired Joe Biden's campaign rally speech in full.\n",
            "\n",
            "\n",
            "85: This is HUGE news!\n",
            "\n",
            "@SpeakerPelosi just revealed that the House Select Panel on Trump's handling of #COVID19 is going to release a major report tomorrow.\n",
            "\n",
            "https://t.co/PLdSnqjMBu\n",
            "\n",
            "\n",
            "86: NBC Exclusive: The Hunter Biden 'dossier' that went viral on right-wing internet sites and was later disseminated by Trump's close associates appears to be from a fake 'intelligence firm'.\n",
            "\n",
            "The author of the report, 'Martin Aspen', does not exist. \n",
            "https://t.co/XgIbSns9Mm\n",
            "\n",
            "\n",
            "87: @realDonaldTrump Donald J. Trump has murdered 227,000 Americans.\n",
            "\n",
            "\n",
            "88: @LilTunechi @realDonaldTrump @POTUS Trump lying about this deal just like everything else. He just wants votes... This was today. What Trump said and what Biden actually said. You decide... https://t.co/vdwCTuG9Fe\n",
            "\n",
            "\n",
            "89: Joe Biden just said Trump is \"Spreading Division and Addition\"??? \n",
            "\n",
            "So the President is now threatening you with \"Math\" America...\n",
            "\n",
            "\n",
            "90: BREAKING:  Hackers have stolen $2.3M from the Trump reelection fund...\n",
            "\n",
            "Russia, if you are listening.... KEEP DOING IT!\n",
            "\n",
            "\n",
            "91: @GOPLeader @realDonaldTrump Donald Trump, #ManOfAction https://t.co/N8go1Tw3wD\n",
            "\n",
            "\n",
            "92: America or Trump.\n",
            "\n",
            "Choose wisely https://t.co/AoioMeKdA9\n",
            "Who would you choose?\n",
            "\n",
            "A vote for @JoeBiden is a vote for America. https://t.co/UdWAZ5LVgL\n",
            "\n",
            "\n",
            "93: @johnrich In my community we are electing a new sheriff and when I see a sign for the Republican candidate on the front lawn I count that as a Trump vote even though there is no Trump sign. You are right there is an American flag flying!\n",
            "\n",
            "\n",
            "94: Jack Dorsey Censors This Video On Twitter, But He Couldn’t Censor It For The 46,000 People That Donald Trump Played It For At His Rally Yesterday. @realDonaldTrump https://t.co/5xgRyP79X7\n",
            "\n",
            "\n",
            "95: Top: How Trump told his rally crowd Biden responded to a question yesterday about the situation in Philadelphia\n",
            "\n",
            "Bottom: How Biden actually responded https://t.co/rzZL353OrM\n",
            "\n",
            "\n",
            "96: 🚨NEW VIDEO!🚨\n",
            "\n",
            "Donald Trump is the first “president” to plant seeds of doubt about an election just to save face. He is dangerous and affront to our Democracy. \n",
            "\n",
            "Please watch and RT the heck out of it! \n",
            "\n",
            "Let’s #DefendDemocracy\n",
            "\n",
            "https://t.co/FF4qMp72KT\n",
            "\n",
            "\n",
            "97: We need a monster in person turnout in PA on Tuesday to beat the GOP tricks. If Trump is behind at the end of the night, that will screw up his shit.\n",
            "\n",
            "\n",
            "98: 🚨ALERT🚨Plot To Overthrow President Trump On Election Day | Treason\n",
            "https://t.co/AtZeCP6MnA\n",
            "\n",
            "\n",
            "99: 'We asked Trump to stop playing YMCA' - Village People singer Victor Willis - https://t.co/K66kIkglN4\n",
            "\n",
            "\n",
            "100: @OthersJosh @JoeBiden hey genius obviously I didn’t mean trump was personally gonna do it, I was eluding to the fact that his supports with do anything for him, which threatens Joe.\n",
            "\n",
            "\n"
          ],
          "name": "stdout"
        }
      ]
    },
    {
      "cell_type": "code",
      "metadata": {
        "id": "eIhRJxO25h-L"
      },
      "source": [
        "import csv\n",
        "\n",
        "fields = [\"tweet\"]\n",
        "temparray = []\n",
        "for tweet in tweets[0:100]:\n",
        "    temparray.append([tweet.all_text.encode(\"utf-8\")])\n",
        "    \n",
        "filename = \"tweetrecords.csv\"\n",
        "\n",
        "with open(filename, 'w') as csvfile:\n",
        "    csvwriter = csv.writer(csvfile)\n",
        "    csvwriter.writerow(fields)\n",
        "    csvwriter.writerows(temparray)"
      ],
      "execution_count": 45,
      "outputs": []
    },
    {
      "cell_type": "code",
      "metadata": {
        "colab": {
          "base_uri": "https://localhost:8080/",
          "height": 200
        },
        "id": "E9jl3Zf356ma",
        "outputId": "9b561d99-420e-49e3-e04a-bc5fd2d2c117"
      },
      "source": [
        "real_world_data = pd.read_csv(\"/content/tweetrecords.csv\")\n",
        "real_world_data.head()"
      ],
      "execution_count": 74,
      "outputs": [
        {
          "output_type": "execute_result",
          "data": {
            "text/html": [
              "<div>\n",
              "<style scoped>\n",
              "    .dataframe tbody tr th:only-of-type {\n",
              "        vertical-align: middle;\n",
              "    }\n",
              "\n",
              "    .dataframe tbody tr th {\n",
              "        vertical-align: top;\n",
              "    }\n",
              "\n",
              "    .dataframe thead th {\n",
              "        text-align: right;\n",
              "    }\n",
              "</style>\n",
              "<table border=\"1\" class=\"dataframe\">\n",
              "  <thead>\n",
              "    <tr style=\"text-align: right;\">\n",
              "      <th></th>\n",
              "      <th>tweet</th>\n",
              "    </tr>\n",
              "  </thead>\n",
              "  <tbody>\n",
              "    <tr>\n",
              "      <th>0</th>\n",
              "      <td>b'If Trump gets re-elected, he needs to shut a...</td>\n",
              "    </tr>\n",
              "    <tr>\n",
              "      <th>1</th>\n",
              "      <td>b\"Lil Wayne is voting for Trump AND he is a Gr...</td>\n",
              "    </tr>\n",
              "    <tr>\n",
              "      <th>2</th>\n",
              "      <td>b'@gollybass Drove through my neighbourhood ye...</td>\n",
              "    </tr>\n",
              "    <tr>\n",
              "      <th>3</th>\n",
              "      <td>b'Trump and the Republicans are working very h...</td>\n",
              "    </tr>\n",
              "    <tr>\n",
              "      <th>4</th>\n",
              "      <td>b'President @realDonaldTrump: The State of Isr...</td>\n",
              "    </tr>\n",
              "  </tbody>\n",
              "</table>\n",
              "</div>"
            ],
            "text/plain": [
              "                                               tweet\n",
              "0  b'If Trump gets re-elected, he needs to shut a...\n",
              "1  b\"Lil Wayne is voting for Trump AND he is a Gr...\n",
              "2  b'@gollybass Drove through my neighbourhood ye...\n",
              "3  b'Trump and the Republicans are working very h...\n",
              "4  b'President @realDonaldTrump: The State of Isr..."
            ]
          },
          "metadata": {
            "tags": []
          },
          "execution_count": 74
        }
      ]
    },
    {
      "cell_type": "code",
      "metadata": {
        "colab": {
          "base_uri": "https://localhost:8080/",
          "height": 200
        },
        "id": "VgVa6Olk6KI6",
        "outputId": "3bf330db-c2ce-4d08-b81f-ccb490850bc7"
      },
      "source": [
        "real_world_data_clean = preprocessing(real_world_data, \"tweet\")\n",
        "real_list = []\n",
        "for i in range(len(real_world_data_clean)):\n",
        "  real_world_data_clean[\"tweet\"][i] = real_world_data_clean[\"tweet\"][i][1:]\n",
        "  real_list.append(real_world_data_clean[\"tweet\"][i])\n",
        "\n",
        "real_world_data_clean.head()"
      ],
      "execution_count": 77,
      "outputs": [
        {
          "output_type": "execute_result",
          "data": {
            "text/html": [
              "<div>\n",
              "<style scoped>\n",
              "    .dataframe tbody tr th:only-of-type {\n",
              "        vertical-align: middle;\n",
              "    }\n",
              "\n",
              "    .dataframe tbody tr th {\n",
              "        vertical-align: top;\n",
              "    }\n",
              "\n",
              "    .dataframe thead th {\n",
              "        text-align: right;\n",
              "    }\n",
              "</style>\n",
              "<table border=\"1\" class=\"dataframe\">\n",
              "  <thead>\n",
              "    <tr style=\"text-align: right;\">\n",
              "      <th></th>\n",
              "      <th>tweet</th>\n",
              "    </tr>\n",
              "  </thead>\n",
              "  <tbody>\n",
              "    <tr>\n",
              "      <th>0</th>\n",
              "      <td>if trump get reelect need shut media frauds wh...</td>\n",
              "    </tr>\n",
              "    <tr>\n",
              "      <th>1</th>\n",
              "      <td>lil wayne vote trump green bay packer fan may ...</td>\n",
              "    </tr>\n",
              "    <tr>\n",
              "      <th>2</th>\n",
              "      <td>drive neighbourhood yesterday old guy golf ca...</td>\n",
              "    </tr>\n",
              "    <tr>\n",
              "      <th>3</th>\n",
              "      <td>trump republicans work hard seemingly make sur...</td>\n",
              "    </tr>\n",
              "    <tr>\n",
              "      <th>4</th>\n",
              "      <td>president state israel republic sudan agree ma...</td>\n",
              "    </tr>\n",
              "  </tbody>\n",
              "</table>\n",
              "</div>"
            ],
            "text/plain": [
              "                                               tweet\n",
              "0  if trump get reelect need shut media frauds wh...\n",
              "1  lil wayne vote trump green bay packer fan may ...\n",
              "2   drive neighbourhood yesterday old guy golf ca...\n",
              "3  trump republicans work hard seemingly make sur...\n",
              "4  president state israel republic sudan agree ma..."
            ]
          },
          "metadata": {
            "tags": []
          },
          "execution_count": 77
        }
      ]
    },
    {
      "cell_type": "code",
      "metadata": {
        "id": "B6rMozlh_iOe"
      },
      "source": [
        "y_pred_real = model.predict(real_list)"
      ],
      "execution_count": 78,
      "outputs": []
    },
    {
      "cell_type": "code",
      "metadata": {
        "colab": {
          "base_uri": "https://localhost:8080/"
        },
        "id": "FXz9jmnv_6sw",
        "outputId": "bbd20f2e-6026-44d2-d0ac-9ea124e5dcf0"
      },
      "source": [
        "print(y_pred_real)"
      ],
      "execution_count": 79,
      "outputs": [
        {
          "output_type": "stream",
          "text": [
            "[0 1 0 0 1 0 0 0 0 1 0 0 0 0 0 0 0 1 1 0 0 0 0 0 0 0 1 0 0 1 0 0 0 0 0 0 0\n",
            " 0 0 1 1 0 0 0 1 0 0 0 0 1 0 1 1 1 0 0 1 1 0 0 0 1 0 0 0 0 1 0 0 0 0 0 0 0\n",
            " 0 0 0 0 0 1 0 0 0 0 0 0 0 0 1 1 0 0 0 0 0 0 0 0 1 0]\n"
          ],
          "name": "stdout"
        }
      ]
    },
    {
      "cell_type": "code",
      "metadata": {
        "colab": {
          "base_uri": "https://localhost:8080/"
        },
        "id": "AuoR2e8hBhRg",
        "outputId": "b98b0e10-bfff-4e90-98d6-0c363c6b5ef3"
      },
      "source": [
        "for i in range(len(y_pred_real)):\n",
        "  if y_pred_real[i] == 1:\n",
        "    print(real_world_data[\"tweet\"][i])\n",
        "    print(\"\\n\")"
      ],
      "execution_count": 81,
      "outputs": [
        {
          "output_type": "stream",
          "text": [
            "lil wayne vote trump green bay packer fan may smartest person world gopackgo maga dont like youre racist full stop\n",
            "\n",
            "\n",
            "president state israel republic sudan agree make peace full remark\n",
            "\n",
            "\n",
            "trump amp biden tie texas nguys texas turn blue vote please vote\n",
            "\n",
            "\n",
            "florida judge resign votecounting board follow report trump donations\n",
            "\n",
            "\n",
            "all rappers endorse trump start pac call 2 pac\n",
            "\n",
            "\n",
            " daniel trump since hes office\n",
            "\n",
            "\n",
            "lil wayne praise president xe2x81xa6xe2x81xa9xe2x80x99s platinum plan black americans listen assure get\n",
            "\n",
            "\n",
            "we cant stress enough second trump term put adminsitrationxe2x80x99s authoritarian racist xenophobicagenda overdrive lot lose vote voteearly n\n",
            "\n",
            "\n",
            "the majority people call president trump racist black unhinge white liberalsnnthink thatnnthey idea whatxe2x80x99s come\n",
            "\n",
            "\n",
            " black men know know con job see one know exactly trump mean repeatedly say save suburbs\n",
            "\n",
            "\n",
            "opinion trump accidentally admit hexe2x80x99s abandon work women\n",
            "\n",
            "\n",
            " worry trump criminal cronies worry lockhimup\n",
            "\n",
            "\n",
            "opinion alan alda remain silent trump reject science endanger live\n",
            "\n",
            "\n",
            "if rich vote trump ya need understand logic\n",
            "\n",
            "\n",
            "president man action world stage hasnxe2x9cx94 destroy isis top terrorist leadersnxe2x9cx94 normalize israelxe2x80x99s relations uae bahrain sudannxe2x9cx94 move american embassy israel jerusalem promise\n",
            "\n",
            "\n",
            " hear piss people dont vote trump look traitors trump traitor nit also seem trumpers american flag fly everywhere almost magats take flag cant wait 45 prison\n",
            "\n",
            "\n",
            "law law internals trump 3 mi tie wi\n",
            "\n",
            "\n",
            "breaking report 31 black voters intend cast vote president trump rasmussen report\n",
            "\n",
            "\n",
            "lifelong democrat flint city michigan council members vote president trump election\n",
            "\n",
            "\n",
            "joe biden say trump spread division addition nnso president threaten math america\n",
            "\n",
            "\n",
            "breaking hackers steal 23m trump reelection fundnnrussia listen keep\n",
            "\n",
            "\n",
            "we ask trump stop play ymca village people singer victor willis\n",
            "\n",
            "\n"
          ],
          "name": "stdout"
        }
      ]
    }
  ]
}