{
  "cells": [
    {
      "cell_type": "code",
      "source": [
        "!pip install nltk"
      ],
      "outputs": [
        {
          "output_type": "stream",
          "name": "stdout",
          "text": [
            "Requirement already satisfied: nltk in /anaconda/envs/azureml_py36/lib/python3.6/site-packages (3.6.2)\r\n",
            "Requirement already satisfied: regex in /anaconda/envs/azureml_py36/lib/python3.6/site-packages (from nltk) (2021.4.4)\r\n",
            "Requirement already satisfied: joblib in /anaconda/envs/azureml_py36/lib/python3.6/site-packages (from nltk) (0.14.1)\r\n",
            "Requirement already satisfied: click in /anaconda/envs/azureml_py36/lib/python3.6/site-packages (from nltk) (7.1.2)\r\n",
            "Requirement already satisfied: tqdm in /anaconda/envs/azureml_py36/lib/python3.6/site-packages (from nltk) (4.60.0)\r\n"
          ]
        }
      ],
      "execution_count": 1,
      "metadata": {}
    },
    {
      "cell_type": "code",
      "source": [
        "import pandas as pd\r\n",
        "pd.options.mode.chained_assignment = None  # default='warn'\r\n",
        "import re\r\n",
        "from sklearn.utils import resample\r\n",
        "from sklearn.model_selection import train_test_split\r\n",
        "from sklearn.metrics import classification_report\r\n",
        "\r\n",
        "import nltk\r\n",
        "from nltk.stem.wordnet import WordNetLemmatizer\r\n",
        "from nltk.corpus import stopwords\r\n",
        "from nltk.tokenize import sent_tokenize, word_tokenize"
      ],
      "outputs": [],
      "execution_count": 2,
      "metadata": {
        "collapsed": true,
        "jupyter": {
          "source_hidden": false,
          "outputs_hidden": false
        },
        "nteract": {
          "transient": {
            "deleting": false
          }
        },
        "gather": {
          "logged": 1621520828630
        }
      }
    },
    {
      "cell_type": "code",
      "source": [
        "!pip install keras"
      ],
      "outputs": [
        {
          "output_type": "stream",
          "name": "stdout",
          "text": [
            "Requirement already satisfied: keras in /anaconda/envs/azureml_py36/lib/python3.6/site-packages (2.3.1)\r\n",
            "Requirement already satisfied: keras-preprocessing>=1.0.5 in /anaconda/envs/azureml_py36/lib/python3.6/site-packages (from keras) (1.1.2)\r\n",
            "Requirement already satisfied: pyyaml in /anaconda/envs/azureml_py36/lib/python3.6/site-packages (from keras) (5.4.1)\r\n",
            "Requirement already satisfied: six>=1.9.0 in /anaconda/envs/azureml_py36/lib/python3.6/site-packages (from keras) (1.15.0)\r\n",
            "Requirement already satisfied: keras-applications>=1.0.6 in /anaconda/envs/azureml_py36/lib/python3.6/site-packages (from keras) (1.0.8)\r\n",
            "Requirement already satisfied: h5py in /anaconda/envs/azureml_py36/lib/python3.6/site-packages (from keras) (2.10.0)\r\n",
            "Requirement already satisfied: scipy>=0.14 in /anaconda/envs/azureml_py36/lib/python3.6/site-packages (from keras) (1.5.2)\r\n",
            "Requirement already satisfied: numpy>=1.9.1 in /anaconda/envs/azureml_py36/lib/python3.6/site-packages (from keras) (1.18.5)\r\n"
          ]
        }
      ],
      "execution_count": 3,
      "metadata": {
        "collapsed": true,
        "jupyter": {
          "source_hidden": false,
          "outputs_hidden": false
        },
        "nteract": {
          "transient": {
            "deleting": false
          }
        }
      }
    },
    {
      "cell_type": "code",
      "source": [
        "import numpy as np\r\n",
        "import matplotlib.pyplot as plt\r\n",
        "\r\n",
        "from keras.models import Sequential, load_model\r\n",
        "from keras.layers import Dense, LSTM, Embedding, Dropout\r\n",
        "from keras.preprocessing.text import Tokenizer\r\n",
        "from keras.preprocessing.sequence import pad_sequences"
      ],
      "outputs": [
        {
          "output_type": "stream",
          "name": "stderr",
          "text": [
            "Using TensorFlow backend.\n"
          ]
        }
      ],
      "execution_count": 4,
      "metadata": {
        "collapsed": true,
        "jupyter": {
          "source_hidden": false,
          "outputs_hidden": false
        },
        "nteract": {
          "transient": {
            "deleting": false
          }
        },
        "gather": {
          "logged": 1621520833624
        }
      }
    },
    {
      "cell_type": "code",
      "source": [
        "nltk.download('punkt')\r\n",
        "nltk.download('wordnet')\r\n",
        "nltk.download('stopwords')"
      ],
      "outputs": [
        {
          "output_type": "stream",
          "name": "stderr",
          "text": [
            "[nltk_data] Downloading package punkt to /home/azureuser/nltk_data...\n",
            "[nltk_data]   Package punkt is already up-to-date!\n",
            "[nltk_data] Downloading package wordnet to\n",
            "[nltk_data]     /home/azureuser/nltk_data...\n",
            "[nltk_data]   Package wordnet is already up-to-date!\n",
            "[nltk_data] Downloading package stopwords to\n",
            "[nltk_data]     /home/azureuser/nltk_data...\n",
            "[nltk_data]   Package stopwords is already up-to-date!\n"
          ]
        },
        {
          "output_type": "execute_result",
          "execution_count": 5,
          "data": {
            "text/plain": "True"
          },
          "metadata": {}
        }
      ],
      "execution_count": 5,
      "metadata": {
        "collapsed": true,
        "jupyter": {
          "source_hidden": false,
          "outputs_hidden": false
        },
        "nteract": {
          "transient": {
            "deleting": false
          }
        },
        "gather": {
          "logged": 1621520833779
        }
      }
    },
    {
      "cell_type": "code",
      "source": [
        "# azureml-core of version 1.0.72 or higher is required\r\n",
        "# azureml-dataprep[pandas] of version 1.1.34 or higher is required\r\n",
        "from azureml.core import Workspace, Dataset\r\n",
        "\r\n",
        "subscription_id = '632fdb87-2d5c-4d22-b120-fb1f2a68ecbd'\r\n",
        "resource_group = 'Dishant'\r\n",
        "workspace_name = 'NLP_Sentiment'\r\n",
        "\r\n",
        "workspace = Workspace(subscription_id, resource_group, workspace_name)\r\n",
        "\r\n",
        "dataset = Dataset.get_by_name(workspace, name='mydataTweets')\r\n",
        "data = dataset.to_pandas_dataframe()"
      ],
      "outputs": [],
      "execution_count": 6,
      "metadata": {
        "collapsed": true,
        "jupyter": {
          "source_hidden": false,
          "outputs_hidden": false
        },
        "nteract": {
          "transient": {
            "deleting": false
          }
        },
        "gather": {
          "logged": 1621520841803
        }
      }
    },
    {
      "cell_type": "code",
      "source": [
        "data.head()"
      ],
      "outputs": [
        {
          "output_type": "execute_result",
          "execution_count": 7,
          "data": {
            "text/plain": "   label                                              tweet\n0      0   @user when a father is dysfunctional and is s...\n1      0  @user @user thanks for #lyft credit i can't us...\n2      0                                bihday your majesty\n3      0  #model   i love u take with u all the time in ...\n4      0             factsguide: society now    #motivation",
            "text/html": "<div>\n<style scoped>\n    .dataframe tbody tr th:only-of-type {\n        vertical-align: middle;\n    }\n\n    .dataframe tbody tr th {\n        vertical-align: top;\n    }\n\n    .dataframe thead th {\n        text-align: right;\n    }\n</style>\n<table border=\"1\" class=\"dataframe\">\n  <thead>\n    <tr style=\"text-align: right;\">\n      <th></th>\n      <th>label</th>\n      <th>tweet</th>\n    </tr>\n  </thead>\n  <tbody>\n    <tr>\n      <th>0</th>\n      <td>0</td>\n      <td>@user when a father is dysfunctional and is s...</td>\n    </tr>\n    <tr>\n      <th>1</th>\n      <td>0</td>\n      <td>@user @user thanks for #lyft credit i can't us...</td>\n    </tr>\n    <tr>\n      <th>2</th>\n      <td>0</td>\n      <td>bihday your majesty</td>\n    </tr>\n    <tr>\n      <th>3</th>\n      <td>0</td>\n      <td>#model   i love u take with u all the time in ...</td>\n    </tr>\n    <tr>\n      <th>4</th>\n      <td>0</td>\n      <td>factsguide: society now    #motivation</td>\n    </tr>\n  </tbody>\n</table>\n</div>"
          },
          "metadata": {}
        }
      ],
      "execution_count": 7,
      "metadata": {
        "collapsed": true,
        "jupyter": {
          "source_hidden": false,
          "outputs_hidden": false
        },
        "nteract": {
          "transient": {
            "deleting": false
          }
        },
        "gather": {
          "logged": 1621520841991
        }
      }
    },
    {
      "cell_type": "code",
      "source": [
        "def  clean_text(df, text_field):\r\n",
        "    df[text_field] = df[text_field].str.lower()\r\n",
        "    df[text_field] = df[text_field].apply(lambda elem: re.sub(r\"(@[A-Za-z0-9]+)|([^0-9A-Za-z \\t])|(\\w+:\\/\\/\\S+)|^rt|http.+?\", \"\", elem))  \r\n",
        "    return df\r\n",
        "\r\n",
        "\r\n",
        "def removeStopWords(df, text_field):\r\n",
        "    for i in range(len(df)):\r\n",
        "        words = word_tokenize(df[text_field][i])\r\n",
        "        new = []\r\n",
        "        for word in words:\r\n",
        "            if word not in stopwords.words('english'):\r\n",
        "                new.append(word)\r\n",
        "        df[text_field][i] = ' '.join(new)\r\n",
        "    return df\r\n",
        "\r\n",
        "\r\n",
        "def lemmatization(df, text_field):\r\n",
        "    lem = WordNetLemmatizer()\r\n",
        "    for i in range(len(df)):\r\n",
        "        words = word_tokenize(df[text_field][i])\r\n",
        "        words = [lem.lemmatize(word,pos='v') for word in words]\r\n",
        "        df[text_field][i] = ' '.join(words)\r\n",
        "    return df"
      ],
      "outputs": [],
      "execution_count": 8,
      "metadata": {
        "collapsed": true,
        "jupyter": {
          "source_hidden": false,
          "outputs_hidden": false
        },
        "nteract": {
          "transient": {
            "deleting": false
          }
        },
        "gather": {
          "logged": 1621520842123
        }
      }
    },
    {
      "cell_type": "code",
      "source": [
        "def preprocessing(df, text_field):\r\n",
        "    df_clean = clean_text(df, text_field)\r\n",
        "    df_clean = removeStopWords(df_clean, text_field)\r\n",
        "    df_clean = lemmatization(df_clean, text_field)\r\n",
        "    return df_clean"
      ],
      "outputs": [],
      "execution_count": 9,
      "metadata": {
        "collapsed": true,
        "jupyter": {
          "source_hidden": false,
          "outputs_hidden": false
        },
        "nteract": {
          "transient": {
            "deleting": false
          }
        },
        "gather": {
          "logged": 1621520842275
        }
      }
    },
    {
      "cell_type": "code",
      "source": [
        "data_clean = preprocessing(data, \"tweet\")\r\n",
        "data_clean.head()"
      ],
      "outputs": [
        {
          "output_type": "execute_result",
          "execution_count": 10,
          "data": {
            "text/plain": "   label                                              tweet\n0      0  father dysfunctional selfish drag kid dysfunct...\n1      0  thank lyft credit cant use cause dont offer wh...\n2      0                                     bihday majesty\n3      0                        model love u take u time ur\n4      0                      factsguide society motivation",
            "text/html": "<div>\n<style scoped>\n    .dataframe tbody tr th:only-of-type {\n        vertical-align: middle;\n    }\n\n    .dataframe tbody tr th {\n        vertical-align: top;\n    }\n\n    .dataframe thead th {\n        text-align: right;\n    }\n</style>\n<table border=\"1\" class=\"dataframe\">\n  <thead>\n    <tr style=\"text-align: right;\">\n      <th></th>\n      <th>label</th>\n      <th>tweet</th>\n    </tr>\n  </thead>\n  <tbody>\n    <tr>\n      <th>0</th>\n      <td>0</td>\n      <td>father dysfunctional selfish drag kid dysfunct...</td>\n    </tr>\n    <tr>\n      <th>1</th>\n      <td>0</td>\n      <td>thank lyft credit cant use cause dont offer wh...</td>\n    </tr>\n    <tr>\n      <th>2</th>\n      <td>0</td>\n      <td>bihday majesty</td>\n    </tr>\n    <tr>\n      <th>3</th>\n      <td>0</td>\n      <td>model love u take u time ur</td>\n    </tr>\n    <tr>\n      <th>4</th>\n      <td>0</td>\n      <td>factsguide society motivation</td>\n    </tr>\n  </tbody>\n</table>\n</div>"
          },
          "metadata": {}
        }
      ],
      "execution_count": 10,
      "metadata": {
        "collapsed": true,
        "jupyter": {
          "source_hidden": false,
          "outputs_hidden": false
        },
        "nteract": {
          "transient": {
            "deleting": false
          }
        },
        "gather": {
          "logged": 1621520922211
        }
      }
    },
    {
      "cell_type": "code",
      "source": [
        "data_clean[\"label\"].value_counts().sort_index().plot.bar()"
      ],
      "outputs": [
        {
          "output_type": "execute_result",
          "execution_count": 11,
          "data": {
            "text/plain": "<matplotlib.axes._subplots.AxesSubplot at 0x7f16c8122e48>"
          },
          "metadata": {}
        },
        {
          "output_type": "display_data",
          "data": {
            "text/plain": "<Figure size 432x288 with 1 Axes>",
            "image/png": "[encoded data removed]"
          },
          "metadata": {
            "needs_background": "light"
          }
        }
      ],
      "execution_count": 11,
      "metadata": {
        "collapsed": true,
        "jupyter": {
          "source_hidden": false,
          "outputs_hidden": false
        },
        "nteract": {
          "transient": {
            "deleting": false
          }
        },
        "gather": {
          "logged": 1621520922357
        }
      }
    },
    {
      "cell_type": "code",
      "source": [
        "data_clean[\"label\"].value_counts()"
      ],
      "outputs": [
        {
          "output_type": "execute_result",
          "execution_count": 12,
          "data": {
            "text/plain": "0    29720\n1     2242\nName: label, dtype: int64"
          },
          "metadata": {}
        }
      ],
      "execution_count": 12,
      "metadata": {
        "collapsed": true,
        "jupyter": {
          "source_hidden": false,
          "outputs_hidden": false
        },
        "nteract": {
          "transient": {
            "deleting": false
          }
        },
        "gather": {
          "logged": 1621520922504
        }
      }
    },
    {
      "cell_type": "code",
      "source": [
        "data_clean[\"tweet\"] = data_clean[\"tweet\"].astype(str)"
      ],
      "outputs": [],
      "execution_count": 13,
      "metadata": {
        "collapsed": true,
        "jupyter": {
          "source_hidden": false,
          "outputs_hidden": false
        },
        "nteract": {
          "transient": {
            "deleting": false
          }
        },
        "gather": {
          "logged": 1621520922641
        }
      }
    },
    {
      "cell_type": "code",
      "source": [
        "tokenizer = Tokenizer(num_words=7500, split=\" \")\r\n",
        "tokenizer.fit_on_texts(data_clean[\"tweet\"].values)\r\n",
        "\r\n",
        "X = tokenizer.texts_to_sequences(data_clean[\"tweet\"].values)\r\n",
        "X = pad_sequences(X)\r\n",
        "X[10:15]"
      ],
      "outputs": [
        {
          "output_type": "execute_result",
          "execution_count": 14,
          "data": {
            "text/plain": "array([[   0,    0,    0,    0,    0,    0,    0, 1113, 2344, 1096, 1699,\n         325,  145,  947, 2873, 3111,  181,   76,  104,   98,  132],\n       [   0,    0,    0,    0,    0,    0,    0,    0,    0,    0,    0,\n           0,    0, 2871,   71, 2682,  670, 2871, 1277, 1057,    1],\n       [   0,    0,    0,    0,    0,    0,    0,    0,    0,    0,    0,\n           0,    0,    0,    0,    0,    0,    3,   15,  502,   13],\n       [   0,    0,    0,    0,    0,    0,    0,    0,    0,    0,    0,\n           0, 1465,  157, 6660, 1405,  164,  687, 1170, 4699, 1700],\n       [   0,    0,    0,    0,    0,    0,    0,    0,    0,    0,    0,\n           0,    0,    0,    0,    0,  397, 1097, 1619, 6661, 6661]],\n      dtype=int32)"
          },
          "metadata": {}
        }
      ],
      "execution_count": 14,
      "metadata": {
        "collapsed": true,
        "jupyter": {
          "source_hidden": false,
          "outputs_hidden": false
        },
        "nteract": {
          "transient": {
            "deleting": false
          }
        },
        "gather": {
          "logged": 1621520923238
        }
      }
    },
    {
      "cell_type": "code",
      "source": [
        "model = Sequential()\r\n",
        "model.add(Embedding(7500, 256, input_length=X.shape[1]))\r\n",
        "model.add(Dropout(0.3))\r\n",
        "model.add(LSTM(256, return_sequences=True, dropout=0.3, recurrent_dropout=0.2))\r\n",
        "model.add(LSTM(256, dropout=0.3, recurrent_dropout=0.2))\r\n",
        "model.add(Dense(2, activation='softmax'))"
      ],
      "outputs": [],
      "execution_count": 15,
      "metadata": {
        "collapsed": true,
        "jupyter": {
          "source_hidden": false,
          "outputs_hidden": false
        },
        "nteract": {
          "transient": {
            "deleting": false
          }
        },
        "gather": {
          "logged": 1621520925079
        }
      }
    },
    {
      "cell_type": "code",
      "source": [
        "model.compile(loss='categorical_crossentropy', optimizer='adam', metrics=['accuracy'])\r\n",
        "model.summary()"
      ],
      "outputs": [
        {
          "output_type": "stream",
          "name": "stdout",
          "text": [
            "Model: \"sequential_1\"\n",
            "_________________________________________________________________\n",
            "Layer (type)                 Output Shape              Param #   \n",
            "=================================================================\n",
            "embedding_1 (Embedding)      (None, 21, 256)           1920000   \n",
            "_________________________________________________________________\n",
            "dropout_1 (Dropout)          (None, 21, 256)           0         \n",
            "_________________________________________________________________\n",
            "lstm_1 (LSTM)                (None, 21, 256)           525312    \n",
            "_________________________________________________________________\n",
            "lstm_2 (LSTM)                (None, 256)               525312    \n",
            "_________________________________________________________________\n",
            "dense_1 (Dense)              (None, 2)                 514       \n",
            "=================================================================\n",
            "Total params: 2,971,138\n",
            "Trainable params: 2,971,138\n",
            "Non-trainable params: 0\n",
            "_________________________________________________________________\n"
          ]
        }
      ],
      "execution_count": 16,
      "metadata": {
        "collapsed": true,
        "jupyter": {
          "source_hidden": false,
          "outputs_hidden": false
        },
        "nteract": {
          "transient": {
            "deleting": false
          }
        },
        "gather": {
          "logged": 1621520925209
        }
      }
    },
    {
      "cell_type": "code",
      "source": [
        "y = pd.get_dummies(data_clean['label']).values\r\n",
        "[print(data_clean['label'][i], y[i]) for i in range(0,5)]"
      ],
      "outputs": [
        {
          "output_type": "stream",
          "name": "stdout",
          "text": [
            "0 [1 0]\n",
            "0 [1 0]\n",
            "0 [1 0]\n",
            "0 [1 0]\n",
            "0 [1 0]\n"
          ]
        },
        {
          "output_type": "execute_result",
          "execution_count": 17,
          "data": {
            "text/plain": "[None, None, None, None, None]"
          },
          "metadata": {}
        }
      ],
      "execution_count": 17,
      "metadata": {
        "collapsed": true,
        "jupyter": {
          "source_hidden": false,
          "outputs_hidden": false
        },
        "nteract": {
          "transient": {
            "deleting": false
          }
        },
        "gather": {
          "logged": 1621520925302
        }
      }
    },
    {
      "cell_type": "code",
      "source": [
        "X_train, X_test, y_train, y_test = train_test_split(X, y, test_size=0.2, random_state=0)"
      ],
      "outputs": [],
      "execution_count": 18,
      "metadata": {
        "collapsed": true,
        "jupyter": {
          "source_hidden": false,
          "outputs_hidden": false
        },
        "nteract": {
          "transient": {
            "deleting": false
          }
        },
        "gather": {
          "logged": 1621520925410
        }
      }
    },
    {
      "cell_type": "code",
      "source": [
        "batch_size = 32\r\n",
        "epochs = 20\r\n",
        "\r\n",
        "model.fit(X_train, y_train, epochs=epochs, batch_size=batch_size,validation_data=(X_test, y_test), verbose=2)"
      ],
      "outputs": [
        {
          "output_type": "stream",
          "name": "stderr",
          "text": [
            "/anaconda/envs/azureml_py36/lib/python3.6/site-packages/tensorflow_core/python/framework/indexed_slices.py:433: UserWarning: Converting sparse IndexedSlices to a dense Tensor of unknown shape. This may consume a large amount of memory.\n",
            "  \"Converting sparse IndexedSlices to a dense Tensor of unknown shape. \"\n"
          ]
        },
        {
          "output_type": "stream",
          "name": "stdout",
          "text": [
            "Train on 25569 samples, validate on 6393 samples\n",
            "Epoch 1/20\n",
            " - 71s - loss: 0.1630 - accuracy: 0.9485 - val_loss: 0.1130 - val_accuracy: 0.9615\n",
            "Epoch 2/20\n",
            " - 70s - loss: 0.0900 - accuracy: 0.9699 - val_loss: 0.1274 - val_accuracy: 0.9637\n",
            "Epoch 3/20\n",
            " - 70s - loss: 0.0632 - accuracy: 0.9795 - val_loss: 0.1215 - val_accuracy: 0.9601\n",
            "Epoch 4/20\n",
            " - 70s - loss: 0.0427 - accuracy: 0.9860 - val_loss: 0.1530 - val_accuracy: 0.9523\n",
            "Epoch 5/20\n",
            " - 70s - loss: 0.0276 - accuracy: 0.9905 - val_loss: 0.1669 - val_accuracy: 0.9534\n",
            "Epoch 6/20\n",
            " - 70s - loss: 0.0196 - accuracy: 0.9934 - val_loss: 0.2003 - val_accuracy: 0.9637\n",
            "Epoch 7/20\n",
            " - 70s - loss: 0.0162 - accuracy: 0.9950 - val_loss: 0.1945 - val_accuracy: 0.9564\n",
            "Epoch 8/20\n",
            " - 70s - loss: 0.0114 - accuracy: 0.9966 - val_loss: 0.2862 - val_accuracy: 0.9421\n",
            "Epoch 9/20\n",
            " - 54s - loss: 0.0103 - accuracy: 0.9967 - val_loss: 0.2380 - val_accuracy: 0.9559\n",
            "Epoch 10/20\n",
            " - 39s - loss: 0.0095 - accuracy: 0.9968 - val_loss: 0.2292 - val_accuracy: 0.9595\n",
            "Epoch 11/20\n",
            " - 38s - loss: 0.0076 - accuracy: 0.9973 - val_loss: 0.2598 - val_accuracy: 0.9562\n",
            "Epoch 12/20\n",
            " - 39s - loss: 0.0055 - accuracy: 0.9982 - val_loss: 0.2770 - val_accuracy: 0.9576\n",
            "Epoch 13/20\n",
            " - 38s - loss: 0.0053 - accuracy: 0.9982 - val_loss: 0.2649 - val_accuracy: 0.9560\n",
            "Epoch 14/20\n",
            " - 38s - loss: 0.0049 - accuracy: 0.9982 - val_loss: 0.3275 - val_accuracy: 0.9568\n",
            "Epoch 15/20\n",
            " - 38s - loss: 0.0040 - accuracy: 0.9987 - val_loss: 0.3235 - val_accuracy: 0.9618\n",
            "Epoch 16/20\n",
            " - 38s - loss: 0.0027 - accuracy: 0.9992 - val_loss: 0.3428 - val_accuracy: 0.9567\n",
            "Epoch 17/20\n",
            " - 38s - loss: 0.0053 - accuracy: 0.9984 - val_loss: 0.3010 - val_accuracy: 0.9562\n",
            "Epoch 18/20\n",
            " - 38s - loss: 0.0037 - accuracy: 0.9988 - val_loss: 0.2971 - val_accuracy: 0.9570\n",
            "Epoch 19/20\n",
            " - 38s - loss: 0.0029 - accuracy: 0.9992 - val_loss: 0.3487 - val_accuracy: 0.9582\n",
            "Epoch 20/20\n",
            " - 38s - loss: 0.0027 - accuracy: 0.9990 - val_loss: 0.3488 - val_accuracy: 0.9578\n"
          ]
        },
        {
          "output_type": "execute_result",
          "execution_count": 19,
          "data": {
            "text/plain": "<keras.callbacks.callbacks.History at 0x7f161c052f60>"
          },
          "metadata": {}
        }
      ],
      "execution_count": 19,
      "metadata": {
        "collapsed": true,
        "jupyter": {
          "source_hidden": false,
          "outputs_hidden": false
        },
        "nteract": {
          "transient": {
            "deleting": false
          }
        },
        "gather": {
          "logged": 1621521994193
        }
      }
    },
    {
      "cell_type": "code",
      "source": [
        "predictions = model.predict(X_test)\r\n",
        "print(type(predictions))\r\n",
        "print(type(y_test))\r\n",
        "y_pred = (predictions >0.5)\r\n",
        "print(y_pred)"
      ],
      "outputs": [
        {
          "output_type": "stream",
          "name": "stdout",
          "text": [
            "<class 'numpy.ndarray'>\n",
            "<class 'numpy.ndarray'>\n",
            "[[ True False]\n",
            " [ True False]\n",
            " [ True False]\n",
            " ...\n",
            " [ True False]\n",
            " [ True False]\n",
            " [ True False]]\n"
          ]
        }
      ],
      "execution_count": 20,
      "metadata": {
        "collapsed": true,
        "jupyter": {
          "source_hidden": false,
          "outputs_hidden": false
        },
        "nteract": {
          "transient": {
            "deleting": false
          }
        },
        "gather": {
          "logged": 1621522068892
        }
      }
    },
    {
      "cell_type": "code",
      "source": [
        "print(classification_report(y_pred, y_test))"
      ],
      "outputs": [
        {
          "output_type": "stream",
          "name": "stdout",
          "text": [
            "              precision    recall  f1-score   support\n",
            "\n",
            "           0       0.98      0.97      0.98      6025\n",
            "           1       0.62      0.69      0.65       368\n",
            "\n",
            "   micro avg       0.96      0.96      0.96      6393\n",
            "   macro avg       0.80      0.83      0.81      6393\n",
            "weighted avg       0.96      0.96      0.96      6393\n",
            " samples avg       0.96      0.96      0.96      6393\n",
            "\n"
          ]
        }
      ],
      "execution_count": 21,
      "metadata": {
        "collapsed": true,
        "jupyter": {
          "source_hidden": false,
          "outputs_hidden": false
        },
        "nteract": {
          "transient": {
            "deleting": false
          }
        },
        "gather": {
          "logged": 1621522071645
        }
      }
    },
    {
      "cell_type": "code",
      "source": [
        "print(predictions)\r\n",
        "print(y_test)\r\n",
        "print(len(predictions))\r\n",
        "print(len(y_test))\r\n",
        "print(np.argmax(predictions[0]))"
      ],
      "outputs": [
        {
          "output_type": "stream",
          "name": "stdout",
          "text": [
            "[[9.9999988e-01 1.4655687e-07]\n",
            " [9.9999988e-01 1.3762650e-07]\n",
            " [9.9999952e-01 4.2533949e-07]\n",
            " ...\n",
            " [9.9999988e-01 1.4939357e-07]\n",
            " [9.5003259e-01 4.9967486e-02]\n",
            " [9.9999988e-01 1.1127989e-07]]\n",
            "[[1 0]\n",
            " [1 0]\n",
            " [1 0]\n",
            " ...\n",
            " [1 0]\n",
            " [0 1]\n",
            " [1 0]]\n",
            "6393\n",
            "6393\n",
            "0\n"
          ]
        }
      ],
      "execution_count": 22,
      "metadata": {
        "collapsed": true,
        "jupyter": {
          "source_hidden": false,
          "outputs_hidden": false
        },
        "nteract": {
          "transient": {
            "deleting": false
          }
        },
        "gather": {
          "logged": 1621522079311
        }
      }
    },
    {
      "cell_type": "code",
      "source": [
        "trueValue = 0 \r\n",
        "falseValue = 0\r\n",
        "for i in range(len(predictions)):\r\n",
        "  if np.argmax(predictions[i]) == np.argmax(y_test[i]):\r\n",
        "    trueValue += 1\r\n",
        "  else:\r\n",
        "    falseValue += 1\r\n",
        "\r\n",
        "print(f\"True Predictions : {(trueValue/len(predictions))*100}\")\r\n",
        "print(f\"False Predictions : {(falseValue/len(predictions))*100}\")"
      ],
      "outputs": [
        {
          "output_type": "stream",
          "name": "stdout",
          "text": [
            "True Predictions : 95.77663068981698\n",
            "False Predictions : 4.2233693101830125\n"
          ]
        }
      ],
      "execution_count": 23,
      "metadata": {
        "collapsed": true,
        "jupyter": {
          "source_hidden": false,
          "outputs_hidden": false
        },
        "nteract": {
          "transient": {
            "deleting": false
          }
        },
        "gather": {
          "logged": 1621522084298
        }
      }
    },
    {
      "cell_type": "code",
      "source": [
        "from sklearn.utils import resample\r\n",
        "\r\n",
        "data_majority = data_clean[data_clean.label==0]\r\n",
        "data_minority = data_clean[data_clean.label==1]\r\n",
        "\r\n",
        "data_minority_upsampled = resample(data_minority, \r\n",
        "                                 replace=True,    \r\n",
        "                                 n_samples=len(data_majority),   \r\n",
        "                                 random_state=123)\r\n",
        "data_upsampled = pd.concat([data_minority_upsampled, data_majority])\r\n",
        "data_upsampled['label'].value_counts()"
      ],
      "outputs": [
        {
          "output_type": "execute_result",
          "execution_count": 24,
          "data": {
            "text/plain": "1    29720\n0    29720\nName: label, dtype: int64"
          },
          "metadata": {}
        }
      ],
      "execution_count": 24,
      "metadata": {
        "collapsed": true,
        "jupyter": {
          "source_hidden": false,
          "outputs_hidden": false
        },
        "nteract": {
          "transient": {
            "deleting": false
          }
        },
        "gather": {
          "logged": 1621522141812
        }
      }
    },
    {
      "cell_type": "code",
      "source": [
        "print(data_upsampled.shape)\r\n",
        "data_upsampled.head()"
      ],
      "outputs": [
        {
          "output_type": "stream",
          "name": "stdout",
          "text": [
            "(59440, 2)\n"
          ]
        },
        {
          "output_type": "execute_result",
          "execution_count": 25,
          "data": {
            "text/plain": "       label                                              tweet\n19492      1         might libtard libtard sjw liberal politics\n16151      1  good place sta learn abt one person amp bigot ...\n25144      1  allahsoil bernanke bail wall street dump 600 b...\n30902      1                wait somebody call dont see anybody\n16522      1  white people expats rest us immigrants socialc...",
            "text/html": "<div>\n<style scoped>\n    .dataframe tbody tr th:only-of-type {\n        vertical-align: middle;\n    }\n\n    .dataframe tbody tr th {\n        vertical-align: top;\n    }\n\n    .dataframe thead th {\n        text-align: right;\n    }\n</style>\n<table border=\"1\" class=\"dataframe\">\n  <thead>\n    <tr style=\"text-align: right;\">\n      <th></th>\n      <th>label</th>\n      <th>tweet</th>\n    </tr>\n  </thead>\n  <tbody>\n    <tr>\n      <th>19492</th>\n      <td>1</td>\n      <td>might libtard libtard sjw liberal politics</td>\n    </tr>\n    <tr>\n      <th>16151</th>\n      <td>1</td>\n      <td>good place sta learn abt one person amp bigot ...</td>\n    </tr>\n    <tr>\n      <th>25144</th>\n      <td>1</td>\n      <td>allahsoil bernanke bail wall street dump 600 b...</td>\n    </tr>\n    <tr>\n      <th>30902</th>\n      <td>1</td>\n      <td>wait somebody call dont see anybody</td>\n    </tr>\n    <tr>\n      <th>16522</th>\n      <td>1</td>\n      <td>white people expats rest us immigrants socialc...</td>\n    </tr>\n  </tbody>\n</table>\n</div>"
          },
          "metadata": {}
        }
      ],
      "execution_count": 25,
      "metadata": {
        "collapsed": true,
        "jupyter": {
          "source_hidden": false,
          "outputs_hidden": false
        },
        "nteract": {
          "transient": {
            "deleting": false
          }
        },
        "gather": {
          "logged": 1621522154219
        }
      }
    },
    {
      "cell_type": "code",
      "source": [
        "data_upsampled[\"label\"].value_counts().sort_index().plot.bar()"
      ],
      "outputs": [
        {
          "output_type": "execute_result",
          "execution_count": 26,
          "data": {
            "text/plain": "<matplotlib.axes._subplots.AxesSubplot at 0x7f16e0891438>"
          },
          "metadata": {}
        },
        {
          "output_type": "display_data",
          "data": {
            "text/plain": "<Figure size 432x288 with 1 Axes>",
            "image/png": "[encoded data removed]"
          },
          "metadata": {
            "needs_background": "light"
          }
        }
      ],
      "execution_count": 26,
      "metadata": {
        "collapsed": true,
        "jupyter": {
          "source_hidden": false,
          "outputs_hidden": false
        },
        "nteract": {
          "transient": {
            "deleting": false
          }
        },
        "gather": {
          "logged": 1621522165098
        }
      }
    },
    {
      "cell_type": "code",
      "source": [
        "data_upsampled[\"tweet\"] = data_upsampled[\"tweet\"].astype(str)"
      ],
      "outputs": [],
      "execution_count": 27,
      "metadata": {
        "collapsed": true,
        "jupyter": {
          "source_hidden": false,
          "outputs_hidden": false
        },
        "nteract": {
          "transient": {
            "deleting": false
          }
        },
        "gather": {
          "logged": 1621522202057
        }
      }
    },
    {
      "cell_type": "code",
      "source": [
        "tokenizer2 = Tokenizer(num_words=7500, split=\" \")\r\n",
        "tokenizer2.fit_on_texts(data_upsampled[\"tweet\"].values)\r\n",
        "\r\n",
        "X2 = tokenizer.texts_to_sequences(data_upsampled[\"tweet\"].values)\r\n",
        "X2 = pad_sequences(X2)\r\n",
        "X2[10:15]"
      ],
      "outputs": [
        {
          "output_type": "execute_result",
          "execution_count": 32,
          "data": {
            "text/plain": "array([[   0,    0,    0,    0,    0,    9, 3456, 1027,  411,  771,    9,\n        1027,  216,    9, 3456,   10,  771,    9, 6814,  137, 1876],\n       [   0,    0,    0,    0,    0,    0,    0,    0,    0,    0,    0,\n           0,    0,    0,    0,    0,    0, 3051, 1093, 3662,  805],\n       [   0,    0,    0,    0,    0,    0,    0,    0,    0,    0,    0,\n           0,    0,    0,    0,    0,    0,  338,  830, 5427,  182],\n       [   0,    0,    0,    0,    0,    0,    0,    0,    0,    0,    0,\n           0,    0,    0,    0,  442, 1132,  158,  234, 1602, 1967],\n       [   0,    0,    0,    0,    0,    0,    0,    0,    0,    0,    0,\n           0,    0,  130,  439, 1190,  188, 5629,  158,  557, 2363]],\n      dtype=int32)"
          },
          "metadata": {}
        }
      ],
      "execution_count": 32,
      "metadata": {
        "collapsed": true,
        "jupyter": {
          "source_hidden": false,
          "outputs_hidden": false
        },
        "nteract": {
          "transient": {
            "deleting": false
          }
        },
        "gather": {
          "logged": 1621522393354
        }
      }
    },
    {
      "cell_type": "code",
      "source": [
        "model_up = Sequential()\r\n",
        "model_up.add(Embedding(7500, 256, input_length=X2.shape[1]))\r\n",
        "model_up.add(Dropout(0.3))\r\n",
        "model_up.add(LSTM(256, return_sequences=True, dropout=0.3, recurrent_dropout=0.2))\r\n",
        "model_up.add(LSTM(256, dropout=0.3, recurrent_dropout=0.2))\r\n",
        "model_up.add(Dense(2, activation='softmax'))"
      ],
      "outputs": [],
      "execution_count": 33,
      "metadata": {
        "collapsed": true,
        "jupyter": {
          "source_hidden": false,
          "outputs_hidden": false
        },
        "nteract": {
          "transient": {
            "deleting": false
          }
        },
        "gather": {
          "logged": 1621522401808
        }
      }
    },
    {
      "cell_type": "code",
      "source": [
        "model_up.compile(loss='categorical_crossentropy', optimizer='adam', metrics=['accuracy'])\r\n",
        "model_up.summary()"
      ],
      "outputs": [
        {
          "output_type": "stream",
          "name": "stdout",
          "text": [
            "Model: \"sequential_3\"\n",
            "_________________________________________________________________\n",
            "Layer (type)                 Output Shape              Param #   \n",
            "=================================================================\n",
            "embedding_3 (Embedding)      (None, 21, 256)           1920000   \n",
            "_________________________________________________________________\n",
            "dropout_3 (Dropout)          (None, 21, 256)           0         \n",
            "_________________________________________________________________\n",
            "lstm_5 (LSTM)                (None, 21, 256)           525312    \n",
            "_________________________________________________________________\n",
            "lstm_6 (LSTM)                (None, 256)               525312    \n",
            "_________________________________________________________________\n",
            "dense_3 (Dense)              (None, 2)                 514       \n",
            "=================================================================\n",
            "Total params: 2,971,138\n",
            "Trainable params: 2,971,138\n",
            "Non-trainable params: 0\n",
            "_________________________________________________________________\n"
          ]
        }
      ],
      "execution_count": 34,
      "metadata": {
        "collapsed": true,
        "jupyter": {
          "source_hidden": false,
          "outputs_hidden": false
        },
        "nteract": {
          "transient": {
            "deleting": false
          }
        },
        "gather": {
          "logged": 1621522403906
        }
      }
    },
    {
      "cell_type": "code",
      "source": [
        "y2 = pd.get_dummies(data_upsampled['label']).values\r\n",
        "[print(data_upsampled['label'][i], y2[i]) for i in range(0,5)]"
      ],
      "outputs": [
        {
          "output_type": "stream",
          "name": "stdout",
          "text": [
            "0 [0 1]\n",
            "0 [0 1]\n",
            "0 [0 1]\n",
            "0 [0 1]\n",
            "0 [0 1]\n"
          ]
        },
        {
          "output_type": "execute_result",
          "execution_count": 35,
          "data": {
            "text/plain": "[None, None, None, None, None]"
          },
          "metadata": {}
        }
      ],
      "execution_count": 35,
      "metadata": {
        "collapsed": true,
        "jupyter": {
          "source_hidden": false,
          "outputs_hidden": false
        },
        "nteract": {
          "transient": {
            "deleting": false
          }
        },
        "gather": {
          "logged": 1621522415155
        }
      }
    },
    {
      "cell_type": "code",
      "source": [
        "X_train2, X_test2, y_train2, y_test2 = train_test_split(X2, y2, test_size=0.2, random_state=0)"
      ],
      "outputs": [],
      "execution_count": 36,
      "metadata": {
        "collapsed": true,
        "jupyter": {
          "source_hidden": false,
          "outputs_hidden": false
        },
        "nteract": {
          "transient": {
            "deleting": false
          }
        },
        "gather": {
          "logged": 1621522429584
        }
      }
    },
    {
      "cell_type": "code",
      "source": [
        "batch_size = 32\r\n",
        "epochs = 15\r\n",
        "\r\n",
        "model.fit(X_train2, y_train2, epochs=epochs, batch_size=batch_size,validation_data=(X_test2, y_test2), verbose=2)"
      ],
      "outputs": [
        {
          "output_type": "stream",
          "name": "stdout",
          "text": [
            "Train on 47552 samples, validate on 11888 samples\n",
            "Epoch 1/15\n",
            " - 71s - loss: 0.0429 - accuracy: 0.9873 - val_loss: 0.0155 - val_accuracy: 0.9955\n",
            "Epoch 2/15\n",
            " - 71s - loss: 0.0117 - accuracy: 0.9962 - val_loss: 0.0173 - val_accuracy: 0.9955\n",
            "Epoch 3/15\n",
            " - 71s - loss: 0.0075 - accuracy: 0.9972 - val_loss: 0.0130 - val_accuracy: 0.9964\n",
            "Epoch 4/15\n",
            " - 71s - loss: 0.0071 - accuracy: 0.9975 - val_loss: 0.0140 - val_accuracy: 0.9960\n",
            "Epoch 5/15\n",
            " - 72s - loss: 0.0052 - accuracy: 0.9979 - val_loss: 0.0163 - val_accuracy: 0.9960\n",
            "Epoch 6/15\n",
            " - 73s - loss: 0.0053 - accuracy: 0.9981 - val_loss: 0.0222 - val_accuracy: 0.9950\n",
            "Epoch 7/15\n",
            " - 73s - loss: 0.0042 - accuracy: 0.9981 - val_loss: 0.0233 - val_accuracy: 0.9950\n",
            "Epoch 8/15\n",
            " - 73s - loss: 0.0047 - accuracy: 0.9980 - val_loss: 0.0209 - val_accuracy: 0.9954\n",
            "Epoch 9/15\n",
            " - 73s - loss: 0.0044 - accuracy: 0.9982 - val_loss: 0.0160 - val_accuracy: 0.9963\n",
            "Epoch 10/15\n",
            " - 72s - loss: 0.0041 - accuracy: 0.9981 - val_loss: 0.0212 - val_accuracy: 0.9953\n",
            "Epoch 11/15\n",
            " - 71s - loss: 0.0042 - accuracy: 0.9983 - val_loss: 0.0198 - val_accuracy: 0.9957\n",
            "Epoch 12/15\n",
            " - 71s - loss: 0.0041 - accuracy: 0.9982 - val_loss: 0.0248 - val_accuracy: 0.9952\n",
            "Epoch 13/15\n",
            " - 71s - loss: 0.0039 - accuracy: 0.9983 - val_loss: 0.0212 - val_accuracy: 0.9951\n",
            "Epoch 14/15\n",
            " - 71s - loss: 0.0040 - accuracy: 0.9983 - val_loss: 0.0420 - val_accuracy: 0.9918\n",
            "Epoch 15/15\n",
            " - 71s - loss: 0.0045 - accuracy: 0.9982 - val_loss: 0.0203 - val_accuracy: 0.9950\n"
          ]
        },
        {
          "output_type": "execute_result",
          "execution_count": 37,
          "data": {
            "text/plain": "<keras.callbacks.callbacks.History at 0x7f15c79c09e8>"
          },
          "metadata": {}
        }
      ],
      "execution_count": 37,
      "metadata": {
        "collapsed": true,
        "jupyter": {
          "source_hidden": false,
          "outputs_hidden": false
        },
        "nteract": {
          "transient": {
            "deleting": false
          }
        },
        "gather": {
          "logged": 1621523541373
        }
      }
    },
    {
      "cell_type": "code",
      "source": [
        "predictions = model.predict(X_test)\r\n",
        "y_pred = (predictions >0.5)\r\n",
        "print(classification_report(y_pred, y_test))"
      ],
      "outputs": [
        {
          "output_type": "stream",
          "name": "stdout",
          "text": [
            "              precision    recall  f1-score   support\n",
            "\n",
            "           0       1.00      1.00      1.00      5972\n",
            "           1       0.99      0.96      0.98       421\n",
            "\n",
            "   micro avg       1.00      1.00      1.00      6393\n",
            "   macro avg       0.99      0.98      0.99      6393\n",
            "weighted avg       1.00      1.00      1.00      6393\n",
            " samples avg       1.00      1.00      1.00      6393\n",
            "\n"
          ]
        }
      ],
      "execution_count": 38,
      "metadata": {
        "collapsed": true,
        "jupyter": {
          "source_hidden": false,
          "outputs_hidden": false
        },
        "nteract": {
          "transient": {
            "deleting": false
          }
        },
        "gather": {
          "logged": 1621523778600
        }
      }
    },
    {
      "cell_type": "code",
      "source": [
        "model.save(\"model.h5\")"
      ],
      "outputs": [],
      "execution_count": 40,
      "metadata": {
        "collapsed": true,
        "jupyter": {
          "source_hidden": false,
          "outputs_hidden": false
        },
        "nteract": {
          "transient": {
            "deleting": false
          }
        },
        "gather": {
          "logged": 1621523890542
        }
      }
    },
    {
      "cell_type": "code",
      "source": [
        "model_up.save(\"model_upsampled.h5\")"
      ],
      "outputs": [],
      "execution_count": 41,
      "metadata": {
        "collapsed": true,
        "jupyter": {
          "source_hidden": false,
          "outputs_hidden": false
        },
        "nteract": {
          "transient": {
            "deleting": false
          }
        },
        "gather": {
          "logged": 1621523916084
        }
      }
    }
  ],
  "metadata": {
    "kernelspec": {
      "name": "python3-azureml",
      "language": "python",
      "display_name": "Python 3.6 - AzureML"
    },
    "language_info": {
      "name": "python",
      "version": "3.6.9",
      "mimetype": "text/x-python",
      "codemirror_mode": {
        "name": "ipython",
        "version": 3
      },
      "pygments_lexer": "ipython3",
      "nbconvert_exporter": "python",
      "file_extension": ".py"
    },
    "kernel_info": {
      "name": "python3-azureml"
    },
    "nteract": {
      "version": "nteract-front-end@1.0.0"
    }
  },
  "nbformat": 4,
  "nbformat_minor": 2
}